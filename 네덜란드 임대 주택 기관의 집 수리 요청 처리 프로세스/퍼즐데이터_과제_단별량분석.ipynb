{
 "cells": [
  {
   "cell_type": "markdown",
   "metadata": {},
   "source": [
    "# 과제 : 데이터 분석"
   ]
  },
  {
   "cell_type": "markdown",
   "metadata": {},
   "source": [
    "<데이터 분석 질문>\n",
    "\n",
    "1.    기본 분석 및 데이터 전처리를 수행하고 결과를 설명하세요.\n",
    "\n",
    "\n",
    "2.    상세 분석 및 프로세스 분석\n",
    "\n",
    "         i.            현재 수리 프로세스가 어떻게 진행되고 있는지 설명하세요.\n",
    "\n",
    "       ii.            현재 프로세스의 문제점(병목현상, 반복작업 등)을 분석하세요.\n",
    "\n",
    "     iii.            케이스 소요 시간에 영향을 미치는 데이터 요소가 있다면, 이를 제시하고 근거를 설명하세요. \n",
    "\n",
    "\n",
    "3.    현재 프로세스를 개선할 수 있는 방안에 대해 서술하세요"
   ]
  },
  {
   "cell_type": "code",
   "execution_count": 1,
   "metadata": {},
   "outputs": [],
   "source": [
    "import pandas as pd\n",
    "import numpy as np\n",
    "import matplotlib.pyplot as plt\n",
    "import seaborn as sns"
   ]
  },
  {
   "cell_type": "code",
   "execution_count": 34,
   "metadata": {},
   "outputs": [
    {
     "data": {
      "text/html": [
       "<div>\n",
       "<style scoped>\n",
       "    .dataframe tbody tr th:only-of-type {\n",
       "        vertical-align: middle;\n",
       "    }\n",
       "\n",
       "    .dataframe tbody tr th {\n",
       "        vertical-align: top;\n",
       "    }\n",
       "\n",
       "    .dataframe thead th {\n",
       "        text-align: right;\n",
       "    }\n",
       "</style>\n",
       "<table border=\"1\" class=\"dataframe\">\n",
       "  <thead>\n",
       "    <tr style=\"text-align: right;\">\n",
       "      <th></th>\n",
       "      <th>caseID</th>\n",
       "      <th>taskID</th>\n",
       "      <th>originator</th>\n",
       "      <th>eventtype</th>\n",
       "      <th>contact</th>\n",
       "      <th>RepairType</th>\n",
       "      <th>objectKey</th>\n",
       "      <th>RepairInternally</th>\n",
       "      <th>EstimatedRepairTime</th>\n",
       "      <th>RepairCode</th>\n",
       "      <th>RepairOK</th>\n",
       "      <th>date</th>\n",
       "      <th>time</th>\n",
       "    </tr>\n",
       "  </thead>\n",
       "  <tbody>\n",
       "    <tr>\n",
       "      <th>0</th>\n",
       "      <td>419</td>\n",
       "      <td>InformClientSurvey</td>\n",
       "      <td>System</td>\n",
       "      <td>complete</td>\n",
       "      <td>NaN</td>\n",
       "      <td>NaN</td>\n",
       "      <td>NaN</td>\n",
       "      <td>NaN</td>\n",
       "      <td>NaN</td>\n",
       "      <td>NaN</td>\n",
       "      <td>NaN</td>\n",
       "      <td>2020-01-06</td>\n",
       "      <td>11:51</td>\n",
       "    </tr>\n",
       "    <tr>\n",
       "      <th>1</th>\n",
       "      <td>561</td>\n",
       "      <td>ArrangeSurvey</td>\n",
       "      <td>Monica</td>\n",
       "      <td>complete</td>\n",
       "      <td>NaN</td>\n",
       "      <td>NaN</td>\n",
       "      <td>NaN</td>\n",
       "      <td>NaN</td>\n",
       "      <td>NaN</td>\n",
       "      <td>NaN</td>\n",
       "      <td>NaN</td>\n",
       "      <td>2020-01-07</td>\n",
       "      <td>13:48</td>\n",
       "    </tr>\n",
       "    <tr>\n",
       "      <th>2</th>\n",
       "      <td>902</td>\n",
       "      <td>ReadyInformClient</td>\n",
       "      <td>System</td>\n",
       "      <td>complete</td>\n",
       "      <td>NaN</td>\n",
       "      <td>NaN</td>\n",
       "      <td>NaN</td>\n",
       "      <td>NaN</td>\n",
       "      <td>NaN</td>\n",
       "      <td>NaN</td>\n",
       "      <td>True</td>\n",
       "      <td>2020-01-08</td>\n",
       "      <td>16:20</td>\n",
       "    </tr>\n",
       "    <tr>\n",
       "      <th>3</th>\n",
       "      <td>18</td>\n",
       "      <td>Survey</td>\n",
       "      <td>Edd</td>\n",
       "      <td>start</td>\n",
       "      <td>NaN</td>\n",
       "      <td>NaN</td>\n",
       "      <td>NaN</td>\n",
       "      <td>NaN</td>\n",
       "      <td>NaN</td>\n",
       "      <td>NaN</td>\n",
       "      <td>NaN</td>\n",
       "      <td>2020-01-09</td>\n",
       "      <td>6:55</td>\n",
       "    </tr>\n",
       "    <tr>\n",
       "      <th>4</th>\n",
       "      <td>852</td>\n",
       "      <td>Survey</td>\n",
       "      <td>Edd</td>\n",
       "      <td>complete</td>\n",
       "      <td>NaN</td>\n",
       "      <td>NaN</td>\n",
       "      <td>NaN</td>\n",
       "      <td>True</td>\n",
       "      <td>240.0</td>\n",
       "      <td>1.0</td>\n",
       "      <td>NaN</td>\n",
       "      <td>2020-01-10</td>\n",
       "      <td>11:33</td>\n",
       "    </tr>\n",
       "  </tbody>\n",
       "</table>\n",
       "</div>"
      ],
      "text/plain": [
       "   caseID              taskID originator eventtype contact RepairType  \\\n",
       "0     419  InformClientSurvey     System  complete     NaN        NaN   \n",
       "1     561       ArrangeSurvey     Monica  complete     NaN        NaN   \n",
       "2     902   ReadyInformClient     System  complete     NaN        NaN   \n",
       "3      18              Survey        Edd     start     NaN        NaN   \n",
       "4     852              Survey        Edd  complete     NaN        NaN   \n",
       "\n",
       "   objectKey RepairInternally  EstimatedRepairTime  RepairCode RepairOK  \\\n",
       "0        NaN              NaN                  NaN         NaN      NaN   \n",
       "1        NaN              NaN                  NaN         NaN      NaN   \n",
       "2        NaN              NaN                  NaN         NaN     True   \n",
       "3        NaN              NaN                  NaN         NaN      NaN   \n",
       "4        NaN             True                240.0         1.0      NaN   \n",
       "\n",
       "         date   time  \n",
       "0  2020-01-06  11:51  \n",
       "1  2020-01-07  13:48  \n",
       "2  2020-01-08  16:20  \n",
       "3  2020-01-09   6:55  \n",
       "4  2020-01-10  11:33  "
      ]
     },
     "execution_count": 34,
     "metadata": {},
     "output_type": "execute_result"
    }
   ],
   "source": [
    "# mobile data\n",
    "data_path = \"repair2.csv\"\n",
    "data = pd.read_csv(data_path)\n",
    "data.head()"
   ]
  },
  {
   "cell_type": "code",
   "execution_count": 3,
   "metadata": {},
   "outputs": [
    {
     "data": {
      "text/plain": [
       "caseID                     0\n",
       "taskID                     2\n",
       "originator                 2\n",
       "eventtype                  5\n",
       "contact                12262\n",
       "RepairType             12335\n",
       "objectKey              12335\n",
       "RepairInternally       12335\n",
       "EstimatedRepairTime    12335\n",
       "RepairCode             12335\n",
       "RepairOK               11408\n",
       "date                      13\n",
       "time                      13\n",
       "dtype: int64"
      ]
     },
     "execution_count": 3,
     "metadata": {},
     "output_type": "execute_result"
    }
   ],
   "source": [
    "# 전체 컬럼의 결측지 확인\n",
    "data.isnull().sum()"
   ]
  },
  {
   "cell_type": "markdown",
   "metadata": {},
   "source": [
    "|변수 명|내용|구분|\n",
    "|\t----\t|\t----\t|\t----\t|\n",
    "|\tCaseID\t|\t집 수리 요청 접수 번호\t|\tint |\n",
    "|\tTaskID\t|\t업무\t|\tObject\t|\n",
    "|\tOriginator\t|\t업무 담당자 |\tObject\t|\n",
    "|\tEventtype\t|\t업무의 시작(start)과 끝(complete)을 표시\t|\tObject\t|\n",
    "|\tContact\t|\t집 수리 요청의 요청 채널('Phone','Web','Personal',Letter')\t|\tObject\t|\n",
    "|\tRepairType\t|\t수리 방식('P, 'E', 'B')|\tObject\t|\n",
    "|\tObjectKey\t|\t 수리 대상 집 key\t|\tfloat\t|\n",
    "|\tRepairInternally\t|\t내부 수리 여부('True', 'False')\t|\tobject\t|\n",
    "|\tEstimatedRepairTime\t|\t예상 수리 시간(60.0 ~ 480.0)\t|\tfloat\t|\n",
    "|\tRepairCode\t|\t수리 종류(1.0 ~ 4.0)\t|\tfloat\t|\n",
    "|\tRepairOK\t|\t수리 정상 종류 여부('True')\t|\tobject\t|\n",
    "|\tDate\t|\t업무 수행 일자\t|\tobject\t|\n",
    "|\tTime\t|\t업무 수행 시각\t|\tobject\t|\n"
   ]
  },
  {
   "cell_type": "markdown",
   "metadata": {},
   "source": [
    "### 1. 기본 분석 및 데이터 전처리를 수행하고 결과를 설명하세요."
   ]
  },
  {
   "cell_type": "code",
   "execution_count": 27,
   "metadata": {},
   "outputs": [
    {
     "data": {
      "text/plain": [
       "caseID                     0\n",
       "taskID                     2\n",
       "originator                 2\n",
       "eventtype                  5\n",
       "contact                12262\n",
       "RepairType             12335\n",
       "objectKey              12335\n",
       "RepairInternally       12335\n",
       "EstimatedRepairTime    12335\n",
       "RepairCode             12335\n",
       "RepairOK               11408\n",
       "date                      13\n",
       "time                      13\n",
       "dtype: int64"
      ]
     },
     "execution_count": 27,
     "metadata": {},
     "output_type": "execute_result"
    }
   ],
   "source": [
    "data.isna().sum()"
   ]
  },
  {
   "cell_type": "markdown",
   "metadata": {},
   "source": [
    "###### 1. 단별량 분석   ( 결측지는 우선 무시하고 시행 ) : 특정 컬럼이 약 12000개 정도 결측지가 있어서 추후 처리방법 고안"
   ]
  },
  {
   "cell_type": "markdown",
   "metadata": {},
   "source": [
    "##### - TaskID"
   ]
  },
  {
   "cell_type": "code",
   "execution_count": 122,
   "metadata": {},
   "outputs": [
    {
     "data": {
      "text/plain": [
       "taskID    2\n",
       "dtype: int64"
      ]
     },
     "execution_count": 122,
     "metadata": {},
     "output_type": "execute_result"
    }
   ],
   "source": [
    "data[[\"taskID\"]].isna().sum()"
   ]
  },
  {
   "cell_type": "code",
   "execution_count": 125,
   "metadata": {},
   "outputs": [
    {
     "data": {
      "text/plain": [
       "ArrangeSurvey             1854\n",
       "MakeTicket                1854\n",
       "Survey                    1854\n",
       "InternRepair              1094\n",
       "FirstContact               999\n",
       "TicketReady                927\n",
       "RepairReady                927\n",
       "ReadyInformClient          927\n",
       "SendTicketToFinAdmin       927\n",
       "InformClientSurvey         926\n",
       "ImmediateRepair            766\n",
       "ExternRepair               132\n",
       "InformClientWrongPlace      73\n",
       "Name: taskID, dtype: int64"
      ]
     },
     "execution_count": 125,
     "metadata": {},
     "output_type": "execute_result"
    }
   ],
   "source": [
    "data[\"taskID\"].value_counts()"
   ]
  },
  {
   "cell_type": "code",
   "execution_count": 146,
   "metadata": {},
   "outputs": [],
   "source": [
    "TaskID = data[\"taskID\"][data[\"taskID\"].isna() == False]"
   ]
  },
  {
   "cell_type": "code",
   "execution_count": 147,
   "metadata": {},
   "outputs": [],
   "source": [
    "TaskId_cnt = TaskID.value_counts()[:5]"
   ]
  },
  {
   "cell_type": "code",
   "execution_count": 148,
   "metadata": {},
   "outputs": [
    {
     "data": {
      "text/plain": [
       "<BarContainer object of 5 artists>"
      ]
     },
     "execution_count": 148,
     "metadata": {},
     "output_type": "execute_result"
    },
    {
     "data": {
      "image/png": "[encoded data removed]",
      "text/plain": [
       "<Figure size 720x360 with 1 Axes>"
      ]
     },
     "metadata": {
      "needs_background": "light"
     },
     "output_type": "display_data"
    }
   ],
   "source": [
    "plt.figure(figsize=(10,5))\n",
    "plt.bar(TaskId_cnt.index, TaskId_cnt.values, color= [\"red\",\"green\",\"blue\",\"yellow\",\"black\"])"
   ]
  },
  {
   "cell_type": "markdown",
   "metadata": {},
   "source": [
    "- 주요 업무로는 ArrangeSurvery, MakeTicket, Survey, InternRepair, FirstContact"
   ]
  },
  {
   "cell_type": "markdown",
   "metadata": {},
   "source": [
    "##### - Originator"
   ]
  },
  {
   "cell_type": "code",
   "execution_count": 152,
   "metadata": {},
   "outputs": [
    {
     "data": {
      "text/plain": [
       "originator    2\n",
       "dtype: int64"
      ]
     },
     "execution_count": 152,
     "metadata": {},
     "output_type": "execute_result"
    }
   ],
   "source": [
    "data[['originator']].isna().sum()"
   ]
  },
  {
   "cell_type": "code",
   "execution_count": 153,
   "metadata": {},
   "outputs": [],
   "source": [
    "Originator = data[\"originator\"][data[\"originator\"].isna() == False]"
   ]
  },
  {
   "cell_type": "code",
   "execution_count": 160,
   "metadata": {},
   "outputs": [],
   "source": [
    "Originator_cnt = Originator.value_counts()[:4] # 5위서부터는 비등한 수치"
   ]
  },
  {
   "cell_type": "code",
   "execution_count": 161,
   "metadata": {},
   "outputs": [
    {
     "data": {
      "text/plain": [
       "<BarContainer object of 4 artists>"
      ]
     },
     "execution_count": 161,
     "metadata": {},
     "output_type": "execute_result"
    },
    {
     "data": {
      "image/png": "[encoded data removed]",
      "text/plain": [
       "<Figure size 720x360 with 1 Axes>"
      ]
     },
     "metadata": {
      "needs_background": "light"
     },
     "output_type": "display_data"
    }
   ],
   "source": [
    "plt.figure(figsize=(10,5))\n",
    "plt.bar(Originator_cnt.index, Originator_cnt.values, color= [\"red\",\"green\",\"blue\",\"yellow\",\"black\"])"
   ]
  },
  {
   "cell_type": "markdown",
   "metadata": {},
   "source": [
    "- 업무를 가장 많이 담당하는 담당자는 System, Monica, Dian, Anne"
   ]
  },
  {
   "cell_type": "markdown",
   "metadata": {},
   "source": [
    "##### -  Eventtype\t"
   ]
  },
  {
   "cell_type": "code",
   "execution_count": 163,
   "metadata": {},
   "outputs": [
    {
     "data": {
      "text/plain": [
       "eventtype    5\n",
       "dtype: int64"
      ]
     },
     "execution_count": 163,
     "metadata": {},
     "output_type": "execute_result"
    }
   ],
   "source": [
    "data[['eventtype']].isna().sum()"
   ]
  },
  {
   "cell_type": "code",
   "execution_count": 164,
   "metadata": {},
   "outputs": [],
   "source": [
    "Eventtype = data[\"eventtype\"][data[\"eventtype\"].isna() == False]"
   ]
  },
  {
   "cell_type": "code",
   "execution_count": 165,
   "metadata": {},
   "outputs": [
    {
     "data": {
      "text/plain": [
       "0        complete\n",
       "1        complete\n",
       "2        complete\n",
       "3           start\n",
       "4        complete\n",
       "           ...   \n",
       "13257    complete\n",
       "13258       start\n",
       "13259       start\n",
       "13260       start\n",
       "13261    complete\n",
       "Name: eventtype, Length: 13257, dtype: object"
      ]
     },
     "execution_count": 165,
     "metadata": {},
     "output_type": "execute_result"
    }
   ],
   "source": [
    "Eventtype"
   ]
  },
  {
   "cell_type": "code",
   "execution_count": 167,
   "metadata": {},
   "outputs": [],
   "source": [
    "Eventtype_cnt = Eventtype.value_counts()"
   ]
  },
  {
   "cell_type": "code",
   "execution_count": 170,
   "metadata": {
    "scrolled": true
   },
   "outputs": [
    {
     "data": {
      "text/plain": [
       "<BarContainer object of 2 artists>"
      ]
     },
     "execution_count": 170,
     "metadata": {},
     "output_type": "execute_result"
    },
    {
     "data": {
      "image/png": "[encoded data removed]",
      "text/plain": [
       "<Figure size 432x360 with 1 Axes>"
      ]
     },
     "metadata": {
      "needs_background": "light"
     },
     "output_type": "display_data"
    }
   ],
   "source": [
    "plt.figure(figsize=(6,5))\n",
    "plt.bar(Eventtype_cnt.index, Eventtype_cnt.values, color= [\"red\",\"green\"])"
   ]
  },
  {
   "cell_type": "code",
   "execution_count": 194,
   "metadata": {},
   "outputs": [
    {
     "data": {
      "image/png": "[encoded data removed]",
      "text/plain": [
       "<Figure size 432x288 with 1 Axes>"
      ]
     },
     "metadata": {},
     "output_type": "display_data"
    }
   ],
   "source": [
    "plt.pie(Eventtype_cnt.values, labels = Eventtype_cnt.index, autopct = \"%.2f%%\")\n",
    "plt.show()"
   ]
  },
  {
   "cell_type": "markdown",
   "metadata": {},
   "source": [
    "- 약 70% 이상이 집 수리를 완료 했음을 알 수 있음"
   ]
  },
  {
   "cell_type": "markdown",
   "metadata": {},
   "source": [
    "##### -  Contact ( 결측지가 너무 많음으로 참고사항으로만.... )"
   ]
  },
  {
   "cell_type": "code",
   "execution_count": 195,
   "metadata": {},
   "outputs": [
    {
     "data": {
      "text/plain": [
       "contact    12262\n",
       "dtype: int64"
      ]
     },
     "execution_count": 195,
     "metadata": {},
     "output_type": "execute_result"
    }
   ],
   "source": [
    "data[['contact']].isna().sum()"
   ]
  },
  {
   "cell_type": "code",
   "execution_count": 201,
   "metadata": {},
   "outputs": [
    {
     "name": "stdout",
     "output_type": "stream",
     "text": [
      "1000\n"
     ]
    }
   ],
   "source": [
    "Contact = data[\"contact\"][data[\"contact\"].isna() == False]\n",
    "Contact_cnt = Contact.value_counts()\n",
    "print(sum(Contact_cnt))"
   ]
  },
  {
   "cell_type": "code",
   "execution_count": 199,
   "metadata": {},
   "outputs": [
    {
     "data": {
      "text/plain": [
       "<BarContainer object of 4 artists>"
      ]
     },
     "execution_count": 199,
     "metadata": {},
     "output_type": "execute_result"
    },
    {
     "data": {
      "image/png": "[encoded data removed]",
      "text/plain": [
       "<Figure size 432x360 with 1 Axes>"
      ]
     },
     "metadata": {
      "needs_background": "light"
     },
     "output_type": "display_data"
    }
   ],
   "source": [
    "plt.figure(figsize=(6,5))\n",
    "plt.bar(Contact_cnt.index, Contact_cnt.values, color= [\"red\",\"green\",\"blue\",\"yellow\"])"
   ]
  },
  {
   "cell_type": "code",
   "execution_count": 202,
   "metadata": {},
   "outputs": [
    {
     "data": {
      "image/png": "[encoded data removed]",
      "text/plain": [
       "<Figure size 432x288 with 1 Axes>"
      ]
     },
     "metadata": {},
     "output_type": "display_data"
    }
   ],
   "source": [
    "plt.pie(Contact_cnt.values, labels = Contact_cnt.index, autopct = \"%.2f%%\")\n",
    "plt.show()"
   ]
  },
  {
   "cell_type": "markdown",
   "metadata": {},
   "source": [
    "- Phone, Web 사용이 가장 많지만 그렇다고 압도적으로 많은 것은 아님 ( 데이터 결측지가 너무 많기 때문에 비율로 확인하는 것이 좋을 것 같습니다)"
   ]
  },
  {
   "cell_type": "markdown",
   "metadata": {},
   "source": [
    "##### -  RepairType\t ( 결측지가 너무 많음으로 참고사항으로만.... )"
   ]
  },
  {
   "cell_type": "code",
   "execution_count": 33,
   "metadata": {},
   "outputs": [
    {
     "data": {
      "text/plain": [
       "RepairType    12335\n",
       "dtype: int64"
      ]
     },
     "execution_count": 33,
     "metadata": {},
     "output_type": "execute_result"
    }
   ],
   "source": [
    "data[['RepairType']].isna().sum()"
   ]
  },
  {
   "cell_type": "code",
   "execution_count": 34,
   "metadata": {},
   "outputs": [
    {
     "name": "stdout",
     "output_type": "stream",
     "text": [
      "927\n"
     ]
    }
   ],
   "source": [
    "RepairType = data[\"RepairType\"][data[\"RepairType\"].isna() == False]\n",
    "RepairType_cnt = RepairType.value_counts()\n",
    "print(sum(RepairType_cnt))"
   ]
  },
  {
   "cell_type": "code",
   "execution_count": 36,
   "metadata": {},
   "outputs": [
    {
     "data": {
      "text/plain": [
       "<BarContainer object of 3 artists>"
      ]
     },
     "execution_count": 36,
     "metadata": {},
     "output_type": "execute_result"
    },
    {
     "data": {
      "image/png": "[encoded data removed]",
      "text/plain": [
       "<Figure size 432x360 with 1 Axes>"
      ]
     },
     "metadata": {
      "needs_background": "light"
     },
     "output_type": "display_data"
    }
   ],
   "source": [
    "plt.figure(figsize=(6,5))\n",
    "plt.bar(RepairType_cnt.index, RepairType_cnt.values, color= [\"red\",\"green\",\"blue\"])"
   ]
  },
  {
   "cell_type": "markdown",
   "metadata": {},
   "source": [
    "##### -  RepairType\t ( 결측지가 너무 많음으로 참고사항으로만.... )"
   ]
  },
  {
   "cell_type": "code",
   "execution_count": 4,
   "metadata": {},
   "outputs": [
    {
     "data": {
      "text/plain": [
       "RepairType    12335\n",
       "dtype: int64"
      ]
     },
     "execution_count": 4,
     "metadata": {},
     "output_type": "execute_result"
    }
   ],
   "source": [
    "data[['RepairType']].isna().sum()"
   ]
  },
  {
   "cell_type": "code",
   "execution_count": 6,
   "metadata": {},
   "outputs": [
    {
     "name": "stdout",
     "output_type": "stream",
     "text": [
      "927\n"
     ]
    }
   ],
   "source": [
    "RepairType = data[\"RepairType\"][data[\"RepairType\"].isna() == False]\n",
    "RepairType_cnt = RepairType.value_counts()\n",
    "print(sum(RepairType_cnt))"
   ]
  },
  {
   "cell_type": "code",
   "execution_count": 8,
   "metadata": {},
   "outputs": [
    {
     "data": {
      "text/plain": [
       "<BarContainer object of 3 artists>"
      ]
     },
     "execution_count": 8,
     "metadata": {},
     "output_type": "execute_result"
    },
    {
     "data": {
      "image/png": "[encoded data removed]",
      "text/plain": [
       "<Figure size 432x360 with 1 Axes>"
      ]
     },
     "metadata": {
      "needs_background": "light"
     },
     "output_type": "display_data"
    }
   ],
   "source": [
    "plt.figure(figsize=(6,5))\n",
    "plt.bar(RepairType_cnt.index, RepairType_cnt.values, color= [\"red\",\"green\",\"blue\"])"
   ]
  },
  {
   "cell_type": "code",
   "execution_count": 9,
   "metadata": {},
   "outputs": [
    {
     "data": {
      "image/png": "[encoded data removed]",
      "text/plain": [
       "<Figure size 432x288 with 1 Axes>"
      ]
     },
     "metadata": {},
     "output_type": "display_data"
    }
   ],
   "source": [
    "plt.pie(RepairType_cnt.values, labels = RepairType_cnt.index, autopct = \"%.2f%%\")\n",
    "plt.show()"
   ]
  },
  {
   "cell_type": "markdown",
   "metadata": {},
   "source": [
    "- P > E > B 순으로 수리 방식이 진행되고 있습니다. ( 데이터 결측지가 너무 많기 때문에 비율로 확인하는 것이 좋을 것 같습니다)"
   ]
  },
  {
   "cell_type": "markdown",
   "metadata": {},
   "source": [
    "##### -  ObjectKey\t ( 결측지가 너무 많음으로 참고사항으로만.... )"
   ]
  },
  {
   "cell_type": "code",
   "execution_count": 11,
   "metadata": {},
   "outputs": [
    {
     "data": {
      "text/plain": [
       "objectKey    12335\n",
       "dtype: int64"
      ]
     },
     "execution_count": 11,
     "metadata": {},
     "output_type": "execute_result"
    }
   ],
   "source": [
    "data[['objectKey']].isna().sum()"
   ]
  },
  {
   "cell_type": "code",
   "execution_count": 46,
   "metadata": {},
   "outputs": [],
   "source": [
    "ObjectKey = data[\"objectKey\"][data[\"objectKey\"].isna() == False]"
   ]
  },
  {
   "cell_type": "code",
   "execution_count": 32,
   "metadata": {},
   "outputs": [
    {
     "data": {
      "text/plain": [
       "<function matplotlib.pyplot.show(close=None, block=None)>"
      ]
     },
     "execution_count": 32,
     "metadata": {},
     "output_type": "execute_result"
    },
    {
     "data": {
      "image/png": "[encoded data removed]",
      "text/plain": [
       "<Figure size 432x288 with 1 Axes>"
      ]
     },
     "metadata": {
      "needs_background": "light"
     },
     "output_type": "display_data"
    }
   ],
   "source": [
    "plt.hist(ObjectKey,bins=890,edgecolor=\"grey\")\n",
    "plt.show"
   ]
  },
  {
   "cell_type": "code",
   "execution_count": 24,
   "metadata": {},
   "outputs": [
    {
     "data": {
      "text/plain": [
       "890"
      ]
     },
     "execution_count": 24,
     "metadata": {},
     "output_type": "execute_result"
    }
   ],
   "source": [
    "len(data[\"objectKey\"].value_counts())"
   ]
  },
  {
   "cell_type": "markdown",
   "metadata": {},
   "source": [
    "- 보통 한 번 이상 수리 요청을 한 집이 많음을 확인할 수 있습니다."
   ]
  },
  {
   "cell_type": "markdown",
   "metadata": {},
   "source": [
    "##### -  RepairInternally\t ( 결측지가 너무 많음으로 참고사항으로만.... )"
   ]
  },
  {
   "cell_type": "code",
   "execution_count": 34,
   "metadata": {},
   "outputs": [
    {
     "data": {
      "text/plain": [
       "RepairInternally    12335\n",
       "dtype: int64"
      ]
     },
     "execution_count": 34,
     "metadata": {},
     "output_type": "execute_result"
    }
   ],
   "source": [
    "data[['RepairInternally']].isna().sum()"
   ]
  },
  {
   "cell_type": "code",
   "execution_count": 35,
   "metadata": {},
   "outputs": [
    {
     "name": "stdout",
     "output_type": "stream",
     "text": [
      "927\n"
     ]
    }
   ],
   "source": [
    "RepairInternally = data[\"RepairInternally\"][data[\"RepairInternally\"].isna() == False]\n",
    "RepairInternally_cnt = RepairInternally.value_counts()\n",
    "print(sum(RepairInternally_cnt))"
   ]
  },
  {
   "cell_type": "code",
   "execution_count": 41,
   "metadata": {},
   "outputs": [
    {
     "data": {
      "text/plain": [
       "<BarContainer object of 2 artists>"
      ]
     },
     "execution_count": 41,
     "metadata": {},
     "output_type": "execute_result"
    },
    {
     "data": {
      "image/png": "[encoded data removed]",
      "text/plain": [
       "<Figure size 432x360 with 1 Axes>"
      ]
     },
     "metadata": {
      "needs_background": "light"
     },
     "output_type": "display_data"
    }
   ],
   "source": [
    "plt.figure(figsize=(6,5))\n",
    "plt.bar([\"True\", \"False\"], RepairInternally_cnt.values, color= [\"red\",\"green\",])"
   ]
  },
  {
   "cell_type": "markdown",
   "metadata": {},
   "source": [
    "- 대부분의 신청자들이 내부수리 과정을 거쳤음을 알 수 있습니다."
   ]
  },
  {
   "cell_type": "markdown",
   "metadata": {},
   "source": [
    "##### -  EstimatedRepairTime\t\t ( 결측지가 너무 많음으로 참고사항으로만.... )"
   ]
  },
  {
   "cell_type": "code",
   "execution_count": 42,
   "metadata": {},
   "outputs": [
    {
     "data": {
      "text/plain": [
       "EstimatedRepairTime    12335\n",
       "dtype: int64"
      ]
     },
     "execution_count": 42,
     "metadata": {},
     "output_type": "execute_result"
    }
   ],
   "source": [
    "data[['EstimatedRepairTime']].isna().sum()"
   ]
  },
  {
   "cell_type": "code",
   "execution_count": 47,
   "metadata": {},
   "outputs": [],
   "source": [
    "EstimatedRepairTime = data[\"EstimatedRepairTime\"][data[\"EstimatedRepairTime\"].isna() == False]"
   ]
  },
  {
   "cell_type": "code",
   "execution_count": 52,
   "metadata": {},
   "outputs": [
    {
     "data": {
      "text/plain": [
       "<function matplotlib.pyplot.show(close=None, block=None)>"
      ]
     },
     "execution_count": 52,
     "metadata": {},
     "output_type": "execute_result"
    },
    {
     "data": {
      "image/png": "[encoded data removed]",
      "text/plain": [
       "<Figure size 432x288 with 1 Axes>"
      ]
     },
     "metadata": {
      "needs_background": "light"
     },
     "output_type": "display_data"
    }
   ],
   "source": [
    "plt.hist(EstimatedRepairTime,bins=15,edgecolor=\"grey\")\n",
    "plt.show"
   ]
  },
  {
   "cell_type": "markdown",
   "metadata": {},
   "source": [
    "- 예상 수리 시간은 약120분, 약 200분 ~ 250분정도가 가장 많이 걸리는 것을 알 수 있습니다"
   ]
  },
  {
   "cell_type": "markdown",
   "metadata": {},
   "source": [
    "##### -  RepairCode\t\t ( 결측지가 너무 많음으로 참고사항으로만.... )"
   ]
  },
  {
   "cell_type": "code",
   "execution_count": 53,
   "metadata": {},
   "outputs": [
    {
     "data": {
      "text/plain": [
       "RepairCode    12335\n",
       "dtype: int64"
      ]
     },
     "execution_count": 53,
     "metadata": {},
     "output_type": "execute_result"
    }
   ],
   "source": [
    "data[['RepairCode']].isna().sum()"
   ]
  },
  {
   "cell_type": "code",
   "execution_count": 56,
   "metadata": {},
   "outputs": [],
   "source": [
    "# 범주화 하기 위해 값 변경하기\n",
    "\n",
    "data[['RepairCode']] = data[['RepairCode']].replace([1.0,2.0,3.0,4.0],[\"1\",\"2\",\"3\",\"4\"])"
   ]
  },
  {
   "cell_type": "code",
   "execution_count": 57,
   "metadata": {},
   "outputs": [
    {
     "name": "stdout",
     "output_type": "stream",
     "text": [
      "927\n"
     ]
    }
   ],
   "source": [
    "RepairCode = data[\"RepairCode\"][data[\"RepairCode\"].isna() == False]\n",
    "RepairCode_cnt = RepairCode.value_counts()\n",
    "print(sum(RepairCode_cnt))"
   ]
  },
  {
   "cell_type": "code",
   "execution_count": 58,
   "metadata": {},
   "outputs": [
    {
     "data": {
      "text/plain": [
       "<BarContainer object of 4 artists>"
      ]
     },
     "execution_count": 58,
     "metadata": {},
     "output_type": "execute_result"
    },
    {
     "data": {
      "image/png": "[encoded data removed]",
      "text/plain": [
       "<Figure size 432x360 with 1 Axes>"
      ]
     },
     "metadata": {
      "needs_background": "light"
     },
     "output_type": "display_data"
    }
   ],
   "source": [
    "plt.figure(figsize=(6,5))\n",
    "plt.bar(RepairCode_cnt.index, RepairCode_cnt.values, color= [\"red\",\"green\",\"blue\",\"yellow\"])"
   ]
  },
  {
   "cell_type": "code",
   "execution_count": 59,
   "metadata": {},
   "outputs": [
    {
     "data": {
      "image/png": "[encoded data removed]",
      "text/plain": [
       "<Figure size 432x288 with 1 Axes>"
      ]
     },
     "metadata": {},
     "output_type": "display_data"
    }
   ],
   "source": [
    "plt.pie(RepairCode_cnt.values, labels = RepairCode_cnt.index, autopct = \"%.2f%%\")\n",
    "plt.show()"
   ]
  },
  {
   "cell_type": "markdown",
   "metadata": {},
   "source": [
    "- 수리의 종류는 1 > 2 > 3 > 4 순인데 1 유형이 앞도적으로 많음을 알 수 있습니다."
   ]
  },
  {
   "cell_type": "markdown",
   "metadata": {},
   "source": [
    "##### -  RepairOK\t ( 결측지가 너무 많음으로 참고사항으로만.... )"
   ]
  },
  {
   "cell_type": "code",
   "execution_count": 61,
   "metadata": {},
   "outputs": [
    {
     "data": {
      "text/plain": [
       "RepairOK    11408\n",
       "dtype: int64"
      ]
     },
     "execution_count": 61,
     "metadata": {},
     "output_type": "execute_result"
    }
   ],
   "source": [
    "data[['RepairOK']].isna().sum()"
   ]
  },
  {
   "cell_type": "code",
   "execution_count": 62,
   "metadata": {},
   "outputs": [
    {
     "name": "stdout",
     "output_type": "stream",
     "text": [
      "1854\n"
     ]
    }
   ],
   "source": [
    "RepairOK = data[\"RepairOK\"][data[\"RepairOK\"].isna() == False]\n",
    "RepairOK_cnt = RepairOK.value_counts()\n",
    "print(sum(RepairOK_cnt))"
   ]
  },
  {
   "cell_type": "code",
   "execution_count": 71,
   "metadata": {},
   "outputs": [
    {
     "data": {
      "text/plain": [
       "<BarContainer object of 1 artists>"
      ]
     },
     "execution_count": 71,
     "metadata": {},
     "output_type": "execute_result"
    },
    {
     "data": {
      "image/png": "[encoded data removed]",
      "text/plain": [
       "<Figure size 432x360 with 1 Axes>"
      ]
     },
     "metadata": {
      "needs_background": "light"
     },
     "output_type": "display_data"
    }
   ],
   "source": [
    "plt.figure(figsize=(6,5))\n",
    "plt.bar([\"True\"], RepairOK_cnt.values, color= [\"red\",\"blue\"])"
   ]
  },
  {
   "cell_type": "code",
   "execution_count": 69,
   "metadata": {},
   "outputs": [
    {
     "data": {
      "text/plain": [
       "True    1854\n",
       "Name: RepairOK, dtype: int64"
      ]
     },
     "execution_count": 69,
     "metadata": {},
     "output_type": "execute_result"
    }
   ],
   "source": [
    "RepairOK.value_counts()"
   ]
  },
  {
   "cell_type": "markdown",
   "metadata": {},
   "source": [
    "- 수리 정상 종류 여부 경우, True 값밖에 없어서 나중에 데이터 마이닝 시행시 컬럼을 삭제하고 하면 좋을것 같습니다."
   ]
  },
  {
   "cell_type": "markdown",
   "metadata": {},
   "source": [
    "단별량 분석 정리\n",
    "\n",
    "\n",
    "* TaskID : ArrangeSurvery, MakeTicket, Survey, InternRepair, FirstContact 가 가장 많은 업무\n",
    "* originator : System, Monica, Dian, Anne 가 가장 많은 업무를 담당 (System 같은 경우 압도적으로 많은 업무를 맡음 --> 아마 고객들에게 가장 인기 있고 실력을 인정 받은 수리사 일것 같음)\n",
    "* eventtype : 대부분이 업무를 수행하지만 아직 30%는 미수행 --> 원인을 찾아봐야 함\n",
    "* contact : Phone, Web 사용이 가장 많지만 모든 컨택 수단들이 고르게 사용 되고 있음( 결측지가 너무 많은 관계로 데이터가 적음 ) \n",
    "* RepairType : 수리방식은 주로 P 방식을 가장 많이 하고있습니다.\n",
    "* EstimatedRepairTime : 수리시간은 약 120분, 200분~250분 정도 소요됩니다.\n",
    "* RepairCode : 수리 종류로는 1.0이 가장 많고 그 다음으로 2.0 3.0 4.0입니다."
   ]
  },
  {
   "cell_type": "markdown",
   "metadata": {},
   "source": [
    "### 결측지 채우고 전처리 후  repair3로 데이터 저장"
   ]
  },
  {
   "cell_type": "code",
   "execution_count": 35,
   "metadata": {},
   "outputs": [],
   "source": [
    "df = data[[\"caseID\",\"taskID\",\"originator\",\"eventtype\",\"date\",\"time\"]]"
   ]
  },
  {
   "cell_type": "code",
   "execution_count": 41,
   "metadata": {},
   "outputs": [
    {
     "data": {
      "text/plain": [
       "caseID         0\n",
       "taskID         0\n",
       "originator     2\n",
       "eventtype      5\n",
       "date          13\n",
       "time          13\n",
       "dtype: int64"
      ]
     },
     "execution_count": 41,
     "metadata": {},
     "output_type": "execute_result"
    }
   ],
   "source": [
    "df.isna().sum()"
   ]
  },
  {
   "cell_type": "code",
   "execution_count": 21,
   "metadata": {},
   "outputs": [
    {
     "name": "stdout",
     "output_type": "stream",
     "text": [
      "<class 'pandas.core.frame.DataFrame'>\n",
      "RangeIndex: 13262 entries, 0 to 13261\n",
      "Data columns (total 6 columns):\n",
      " #   Column      Non-Null Count  Dtype \n",
      "---  ------      --------------  ----- \n",
      " 0   caseID      13262 non-null  int64 \n",
      " 1   taskID      13260 non-null  object\n",
      " 2   originator  13260 non-null  object\n",
      " 3   eventtype   13257 non-null  object\n",
      " 4   date        13249 non-null  object\n",
      " 5   time        13249 non-null  object\n",
      "dtypes: int64(1), object(5)\n",
      "memory usage: 621.8+ KB\n"
     ]
    }
   ],
   "source": [
    "df.info()"
   ]
  },
  {
   "cell_type": "code",
   "execution_count": 25,
   "metadata": {},
   "outputs": [
    {
     "name": "stdout",
     "output_type": "stream",
     "text": [
      "Survey                    1854\n",
      "MakeTicket                1854\n",
      "ArrangeSurvey             1854\n",
      "InternRepair              1094\n",
      "FirstContact               999\n",
      "RepairReady                927\n",
      "SendTicketToFinAdmin       927\n",
      "ReadyInformClient          927\n",
      "TicketReady                927\n",
      "InformClientSurvey         926\n",
      "ImmediateRepair            766\n",
      "ExternRepair               132\n",
      "InformClientWrongPlace      73\n",
      "Name: taskID, dtype: int64\n"
     ]
    }
   ],
   "source": [
    "# taskID 채우기\n",
    "print(df[\"taskID\"].value_counts())\n",
    "df[\"taskID\"].fillna(\"Survey\",inplace=True)"
   ]
  },
  {
   "cell_type": "code",
   "execution_count": 40,
   "metadata": {},
   "outputs": [
    {
     "data": {
      "text/plain": [
       "0"
      ]
     },
     "execution_count": 40,
     "metadata": {},
     "output_type": "execute_result"
    }
   ],
   "source": [
    "df[\"taskID\"].isna().sum()"
   ]
  },
  {
   "cell_type": "code",
   "execution_count": 44,
   "metadata": {},
   "outputs": [
    {
     "name": "stdout",
     "output_type": "stream",
     "text": [
      "System     4635\n",
      "Monica     2535\n",
      "Dian       2246\n",
      "Anne        865\n",
      "Jacky       438\n",
      "Barbara     428\n",
      "John        396\n",
      "Cindy       388\n",
      "Paul        387\n",
      "Edd         372\n",
      "Ben         120\n",
      "Lex         112\n",
      "Nick        108\n",
      "Eric         98\n",
      "DoIt         66\n",
      "FixIt        66\n",
      "Name: originator, dtype: int64\n"
     ]
    }
   ],
   "source": [
    "# originator 채우기\n",
    "print(df[\"originator\"].value_counts())\n",
    "df[\"originator\"].fillna(\"System\",inplace=True)"
   ]
  },
  {
   "cell_type": "code",
   "execution_count": 45,
   "metadata": {},
   "outputs": [
    {
     "data": {
      "text/plain": [
       "0"
      ]
     },
     "execution_count": 45,
     "metadata": {},
     "output_type": "execute_result"
    }
   ],
   "source": [
    "df[\"originator\"].isna().sum()"
   ]
  },
  {
   "cell_type": "code",
   "execution_count": 47,
   "metadata": {},
   "outputs": [
    {
     "name": "stdout",
     "output_type": "stream",
     "text": [
      "complete    9416\n",
      "start       3841\n",
      "Name: eventtype, dtype: int64\n"
     ]
    }
   ],
   "source": [
    "# eventtype 채우기\n",
    "print(df[\"eventtype\"].value_counts())\n",
    "df[\"eventtype\"].fillna(\"complete\",inplace=True)"
   ]
  },
  {
   "cell_type": "code",
   "execution_count": 48,
   "metadata": {},
   "outputs": [
    {
     "data": {
      "text/plain": [
       "0"
      ]
     },
     "execution_count": 48,
     "metadata": {},
     "output_type": "execute_result"
    }
   ],
   "source": [
    "df[\"eventtype\"].isna().sum()"
   ]
  },
  {
   "cell_type": "code",
   "execution_count": 52,
   "metadata": {},
   "outputs": [
    {
     "name": "stdout",
     "output_type": "stream",
     "text": [
      "1970-01-07    1338\n",
      "1970-01-04    1337\n",
      "1970-01-05    1334\n",
      "1970-01-03    1282\n",
      "1970-01-02    1277\n",
      "              ... \n",
      "2021-02-10       1\n",
      "2021-08-07       1\n",
      "2022-01-06       1\n",
      "2021-02-26       1\n",
      "2022-04-03       1\n",
      "Name: date, Length: 881, dtype: int64\n"
     ]
    }
   ],
   "source": [
    "# date 채우기\n",
    "print(df[\"date\"].value_counts())\n",
    "df[\"date\"].fillna(\"1970-01-07\",inplace=True)"
   ]
  },
  {
   "cell_type": "code",
   "execution_count": 53,
   "metadata": {},
   "outputs": [
    {
     "data": {
      "text/plain": [
       "0"
      ]
     },
     "execution_count": 53,
     "metadata": {},
     "output_type": "execute_result"
    }
   ],
   "source": [
    "df[\"date\"].isna().sum()"
   ]
  },
  {
   "cell_type": "code",
   "execution_count": 55,
   "metadata": {},
   "outputs": [
    {
     "name": "stdout",
     "output_type": "stream",
     "text": [
      "7:13     28\n",
      "10:43    27\n",
      "7:11     24\n",
      "4:15     24\n",
      "2:02     24\n",
      "         ..\n",
      "8:29      1\n",
      "2:42      1\n",
      "8:17      1\n",
      "6:15      1\n",
      "8:38      1\n",
      "Name: time, Length: 1427, dtype: int64\n"
     ]
    }
   ],
   "source": [
    "# time 채우기\n",
    "print(df[\"time\"].value_counts())\n",
    "df[\"time\"].fillna(\"7:13\",inplace=True)"
   ]
  },
  {
   "cell_type": "code",
   "execution_count": 56,
   "metadata": {},
   "outputs": [
    {
     "data": {
      "text/plain": [
       "0"
      ]
     },
     "execution_count": 56,
     "metadata": {},
     "output_type": "execute_result"
    }
   ],
   "source": [
    "df[\"time\"].isna().sum()"
   ]
  },
  {
   "cell_type": "code",
   "execution_count": 58,
   "metadata": {},
   "outputs": [
    {
     "data": {
      "text/html": [
       "<div>\n",
       "<style scoped>\n",
       "    .dataframe tbody tr th:only-of-type {\n",
       "        vertical-align: middle;\n",
       "    }\n",
       "\n",
       "    .dataframe tbody tr th {\n",
       "        vertical-align: top;\n",
       "    }\n",
       "\n",
       "    .dataframe thead th {\n",
       "        text-align: right;\n",
       "    }\n",
       "</style>\n",
       "<table border=\"1\" class=\"dataframe\">\n",
       "  <thead>\n",
       "    <tr style=\"text-align: right;\">\n",
       "      <th></th>\n",
       "      <th>caseID</th>\n",
       "      <th>taskID</th>\n",
       "      <th>originator</th>\n",
       "      <th>eventtype</th>\n",
       "      <th>date</th>\n",
       "      <th>time</th>\n",
       "    </tr>\n",
       "  </thead>\n",
       "  <tbody>\n",
       "    <tr>\n",
       "      <th>0</th>\n",
       "      <td>419</td>\n",
       "      <td>InformClientSurvey</td>\n",
       "      <td>System</td>\n",
       "      <td>complete</td>\n",
       "      <td>2020-01-06</td>\n",
       "      <td>11:51</td>\n",
       "    </tr>\n",
       "    <tr>\n",
       "      <th>1</th>\n",
       "      <td>561</td>\n",
       "      <td>ArrangeSurvey</td>\n",
       "      <td>Monica</td>\n",
       "      <td>complete</td>\n",
       "      <td>2020-01-07</td>\n",
       "      <td>13:48</td>\n",
       "    </tr>\n",
       "    <tr>\n",
       "      <th>2</th>\n",
       "      <td>902</td>\n",
       "      <td>ReadyInformClient</td>\n",
       "      <td>System</td>\n",
       "      <td>complete</td>\n",
       "      <td>2020-01-08</td>\n",
       "      <td>16:20</td>\n",
       "    </tr>\n",
       "    <tr>\n",
       "      <th>3</th>\n",
       "      <td>18</td>\n",
       "      <td>Survey</td>\n",
       "      <td>Edd</td>\n",
       "      <td>start</td>\n",
       "      <td>2020-01-09</td>\n",
       "      <td>6:55</td>\n",
       "    </tr>\n",
       "    <tr>\n",
       "      <th>4</th>\n",
       "      <td>852</td>\n",
       "      <td>Survey</td>\n",
       "      <td>Edd</td>\n",
       "      <td>complete</td>\n",
       "      <td>2020-01-10</td>\n",
       "      <td>11:33</td>\n",
       "    </tr>\n",
       "    <tr>\n",
       "      <th>...</th>\n",
       "      <td>...</td>\n",
       "      <td>...</td>\n",
       "      <td>...</td>\n",
       "      <td>...</td>\n",
       "      <td>...</td>\n",
       "      <td>...</td>\n",
       "    </tr>\n",
       "    <tr>\n",
       "      <th>13257</th>\n",
       "      <td>707</td>\n",
       "      <td>ArrangeSurvey</td>\n",
       "      <td>Dian</td>\n",
       "      <td>complete</td>\n",
       "      <td>1970-01-07</td>\n",
       "      <td>0:16</td>\n",
       "    </tr>\n",
       "    <tr>\n",
       "      <th>13258</th>\n",
       "      <td>25</td>\n",
       "      <td>ArrangeSurvey</td>\n",
       "      <td>Dian</td>\n",
       "      <td>start</td>\n",
       "      <td>1970-01-02</td>\n",
       "      <td>7:48</td>\n",
       "    </tr>\n",
       "    <tr>\n",
       "      <th>13259</th>\n",
       "      <td>762</td>\n",
       "      <td>ArrangeSurvey</td>\n",
       "      <td>Monica</td>\n",
       "      <td>start</td>\n",
       "      <td>1970-01-03</td>\n",
       "      <td>11:53</td>\n",
       "    </tr>\n",
       "    <tr>\n",
       "      <th>13260</th>\n",
       "      <td>12</td>\n",
       "      <td>InternRepair</td>\n",
       "      <td>Cindy</td>\n",
       "      <td>start</td>\n",
       "      <td>1970-01-08</td>\n",
       "      <td>18:10</td>\n",
       "    </tr>\n",
       "    <tr>\n",
       "      <th>13261</th>\n",
       "      <td>542</td>\n",
       "      <td>FirstContact</td>\n",
       "      <td>Monica</td>\n",
       "      <td>complete</td>\n",
       "      <td>1970-01-02</td>\n",
       "      <td>16:33</td>\n",
       "    </tr>\n",
       "  </tbody>\n",
       "</table>\n",
       "<p>13262 rows × 6 columns</p>\n",
       "</div>"
      ],
      "text/plain": [
       "       caseID              taskID originator eventtype        date   time\n",
       "0         419  InformClientSurvey     System  complete  2020-01-06  11:51\n",
       "1         561       ArrangeSurvey     Monica  complete  2020-01-07  13:48\n",
       "2         902   ReadyInformClient     System  complete  2020-01-08  16:20\n",
       "3          18              Survey        Edd     start  2020-01-09   6:55\n",
       "4         852              Survey        Edd  complete  2020-01-10  11:33\n",
       "...       ...                 ...        ...       ...         ...    ...\n",
       "13257     707       ArrangeSurvey       Dian  complete  1970-01-07   0:16\n",
       "13258      25       ArrangeSurvey       Dian     start  1970-01-02   7:48\n",
       "13259     762       ArrangeSurvey     Monica     start  1970-01-03  11:53\n",
       "13260      12        InternRepair      Cindy     start  1970-01-08  18:10\n",
       "13261     542        FirstContact     Monica  complete  1970-01-02  16:33\n",
       "\n",
       "[13262 rows x 6 columns]"
      ]
     },
     "execution_count": 58,
     "metadata": {},
     "output_type": "execute_result"
    }
   ],
   "source": [
    "df"
   ]
  },
  {
   "cell_type": "code",
   "execution_count": 59,
   "metadata": {},
   "outputs": [],
   "source": [
    "# complte 데이터만 남기지\n",
    "df = df[df.eventtype != 'start']"
   ]
  },
  {
   "cell_type": "code",
   "execution_count": 60,
   "metadata": {},
   "outputs": [],
   "source": [
    "# 프로세싱 마이닝 할 데이터 따로 저장\n",
    "df.to_csv(\"repair3.csv\")"
   ]
  },
  {
   "cell_type": "code",
   "execution_count": null,
   "metadata": {},
   "outputs": [],
   "source": []
  }
 ],
 "metadata": {
  "kernelspec": {
   "display_name": "Python 3",
   "language": "python",
   "name": "python3"
  },
  "language_info": {
   "codemirror_mode": {
    "name": "ipython",
    "version": 3
   },
   "file_extension": ".py",
   "mimetype": "text/x-python",
   "name": "python",
   "nbconvert_exporter": "python",
   "pygments_lexer": "ipython3",
   "version": "3.8.3"
  }
 },
 "nbformat": 4,
 "nbformat_minor": 4
}
