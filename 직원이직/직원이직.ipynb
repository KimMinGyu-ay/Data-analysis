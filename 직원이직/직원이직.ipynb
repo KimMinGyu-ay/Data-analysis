{
 "cells": [
  {
   "cell_type": "markdown",
   "metadata": {
    "id": "mTt7qGUTCcFs"
   },
   "source": [
    "# 과제#2. 직원 이직 예측"
   ]
  },
  {
   "cell_type": "markdown",
   "metadata": {
    "id": "t42CZ_o2iHvT"
   },
   "source": [
    "* 회사 인사팀에서는 AIVLER 들에게 직원의 이직여부과 관련해서 분석을 요청하였습니다.\n",
    "* 최근 이직율이 증가하는 것에 대해 우려를 갖고 있기에, 이직여부에 영향을 주는 요인에 대해 분석하여, 이직할 것으로 보이는 직원들에 대해 회사를 떠나지 않도록 인사 프로그램을 준비하려고 합니다.\n",
    "* 어떤 직원이 이직할지 예측해 봅시다."
   ]
  },
  {
   "cell_type": "markdown",
   "metadata": {
    "id": "0wuYJKZHjA3d"
   },
   "source": [
    "![](https://adoptostaging.blob.core.windows.net/media/employee-attrition-reasons-9LIqMv.jpg)"
   ]
  },
  {
   "cell_type": "markdown",
   "metadata": {
    "id": "AHmt88Q5EVsj"
   },
   "source": [
    "## 0.환경설정"
   ]
  },
  {
   "cell_type": "markdown",
   "metadata": {
    "id": "KnzVh2LmkLDU"
   },
   "source": [
    "### 1) 라이브러리 로딩"
   ]
  },
  {
   "cell_type": "code",
   "execution_count": 1,
   "metadata": {
    "id": "3rsQerEaELwI"
   },
   "outputs": [],
   "source": [
    "# 기본 라이브러리 가져오기\n",
    "import pandas as pd\n",
    "import numpy as np\n",
    "\n",
    "import matplotlib.pyplot as plt\n",
    "import seaborn as sns\n",
    "\n",
    "from sklearn.model_selection import train_test_split    "
   ]
  },
  {
   "cell_type": "markdown",
   "metadata": {
    "id": "5Qh5KYWokO_N"
   },
   "source": [
    "### 2) 데이터 로딩"
   ]
  },
  {
   "cell_type": "code",
   "execution_count": 2,
   "metadata": {
    "id": "Bw5yZwT0MJKx"
   },
   "outputs": [
    {
     "data": {
      "text/html": [
       "<div>\n",
       "<style scoped>\n",
       "    .dataframe tbody tr th:only-of-type {\n",
       "        vertical-align: middle;\n",
       "    }\n",
       "\n",
       "    .dataframe tbody tr th {\n",
       "        vertical-align: top;\n",
       "    }\n",
       "\n",
       "    .dataframe thead th {\n",
       "        text-align: right;\n",
       "    }\n",
       "</style>\n",
       "<table border=\"1\" class=\"dataframe\">\n",
       "  <thead>\n",
       "    <tr style=\"text-align: right;\">\n",
       "      <th></th>\n",
       "      <th>Attrition</th>\n",
       "      <th>Age</th>\n",
       "      <th>DistanceFromHome</th>\n",
       "      <th>Gender</th>\n",
       "      <th>JobRole</th>\n",
       "      <th>JobSatisfaction</th>\n",
       "      <th>MonthlyIncome</th>\n",
       "      <th>NumCompaniesWorked</th>\n",
       "      <th>OverTime</th>\n",
       "      <th>PercentSalaryHike</th>\n",
       "      <th>RelationshipSatisfaction</th>\n",
       "      <th>TotalWorkingYears</th>\n",
       "      <th>WorkLifeBalance</th>\n",
       "      <th>MaritalStatus_Married</th>\n",
       "      <th>MaritalStatus_Single</th>\n",
       "    </tr>\n",
       "  </thead>\n",
       "  <tbody>\n",
       "    <tr>\n",
       "      <th>0</th>\n",
       "      <td>0</td>\n",
       "      <td>33</td>\n",
       "      <td>7.0</td>\n",
       "      <td>1</td>\n",
       "      <td>0</td>\n",
       "      <td>3</td>\n",
       "      <td>11691</td>\n",
       "      <td>1</td>\n",
       "      <td>0</td>\n",
       "      <td>11</td>\n",
       "      <td>4</td>\n",
       "      <td>14</td>\n",
       "      <td>4</td>\n",
       "      <td>1</td>\n",
       "      <td>0</td>\n",
       "    </tr>\n",
       "    <tr>\n",
       "      <th>1</th>\n",
       "      <td>0</td>\n",
       "      <td>35</td>\n",
       "      <td>18.0</td>\n",
       "      <td>1</td>\n",
       "      <td>0</td>\n",
       "      <td>4</td>\n",
       "      <td>9362</td>\n",
       "      <td>0</td>\n",
       "      <td>0</td>\n",
       "      <td>11</td>\n",
       "      <td>3</td>\n",
       "      <td>10</td>\n",
       "      <td>3</td>\n",
       "      <td>0</td>\n",
       "      <td>1</td>\n",
       "    </tr>\n",
       "    <tr>\n",
       "      <th>2</th>\n",
       "      <td>0</td>\n",
       "      <td>42</td>\n",
       "      <td>6.0</td>\n",
       "      <td>1</td>\n",
       "      <td>0</td>\n",
       "      <td>1</td>\n",
       "      <td>13348</td>\n",
       "      <td>0</td>\n",
       "      <td>0</td>\n",
       "      <td>13</td>\n",
       "      <td>2</td>\n",
       "      <td>18</td>\n",
       "      <td>4</td>\n",
       "      <td>1</td>\n",
       "      <td>0</td>\n",
       "    </tr>\n",
       "    <tr>\n",
       "      <th>3</th>\n",
       "      <td>0</td>\n",
       "      <td>46</td>\n",
       "      <td>2.0</td>\n",
       "      <td>0</td>\n",
       "      <td>0</td>\n",
       "      <td>1</td>\n",
       "      <td>17048</td>\n",
       "      <td>0</td>\n",
       "      <td>0</td>\n",
       "      <td>23</td>\n",
       "      <td>1</td>\n",
       "      <td>28</td>\n",
       "      <td>3</td>\n",
       "      <td>1</td>\n",
       "      <td>0</td>\n",
       "    </tr>\n",
       "    <tr>\n",
       "      <th>4</th>\n",
       "      <td>0</td>\n",
       "      <td>39</td>\n",
       "      <td>NaN</td>\n",
       "      <td>1</td>\n",
       "      <td>0</td>\n",
       "      <td>4</td>\n",
       "      <td>4127</td>\n",
       "      <td>0</td>\n",
       "      <td>0</td>\n",
       "      <td>18</td>\n",
       "      <td>4</td>\n",
       "      <td>7</td>\n",
       "      <td>3</td>\n",
       "      <td>0</td>\n",
       "      <td>0</td>\n",
       "    </tr>\n",
       "    <tr>\n",
       "      <th>5</th>\n",
       "      <td>1</td>\n",
       "      <td>22</td>\n",
       "      <td>4.0</td>\n",
       "      <td>1</td>\n",
       "      <td>1</td>\n",
       "      <td>3</td>\n",
       "      <td>3894</td>\n",
       "      <td>0</td>\n",
       "      <td>0</td>\n",
       "      <td>16</td>\n",
       "      <td>3</td>\n",
       "      <td>4</td>\n",
       "      <td>3</td>\n",
       "      <td>0</td>\n",
       "      <td>1</td>\n",
       "    </tr>\n",
       "    <tr>\n",
       "      <th>6</th>\n",
       "      <td>0</td>\n",
       "      <td>24</td>\n",
       "      <td>21.0</td>\n",
       "      <td>1</td>\n",
       "      <td>1</td>\n",
       "      <td>1</td>\n",
       "      <td>2296</td>\n",
       "      <td>1</td>\n",
       "      <td>0</td>\n",
       "      <td>14</td>\n",
       "      <td>2</td>\n",
       "      <td>2</td>\n",
       "      <td>3</td>\n",
       "      <td>0</td>\n",
       "      <td>0</td>\n",
       "    </tr>\n",
       "    <tr>\n",
       "      <th>7</th>\n",
       "      <td>0</td>\n",
       "      <td>34</td>\n",
       "      <td>8.0</td>\n",
       "      <td>1</td>\n",
       "      <td>1</td>\n",
       "      <td>3</td>\n",
       "      <td>4404</td>\n",
       "      <td>0</td>\n",
       "      <td>0</td>\n",
       "      <td>12</td>\n",
       "      <td>1</td>\n",
       "      <td>6</td>\n",
       "      <td>4</td>\n",
       "      <td>1</td>\n",
       "      <td>0</td>\n",
       "    </tr>\n",
       "    <tr>\n",
       "      <th>8</th>\n",
       "      <td>0</td>\n",
       "      <td>30</td>\n",
       "      <td>20.0</td>\n",
       "      <td>1</td>\n",
       "      <td>0</td>\n",
       "      <td>1</td>\n",
       "      <td>9957</td>\n",
       "      <td>1</td>\n",
       "      <td>0</td>\n",
       "      <td>15</td>\n",
       "      <td>3</td>\n",
       "      <td>7</td>\n",
       "      <td>2</td>\n",
       "      <td>1</td>\n",
       "      <td>0</td>\n",
       "    </tr>\n",
       "    <tr>\n",
       "      <th>9</th>\n",
       "      <td>0</td>\n",
       "      <td>26</td>\n",
       "      <td>6.0</td>\n",
       "      <td>0</td>\n",
       "      <td>1</td>\n",
       "      <td>4</td>\n",
       "      <td>2659</td>\n",
       "      <td>1</td>\n",
       "      <td>1</td>\n",
       "      <td>13</td>\n",
       "      <td>3</td>\n",
       "      <td>3</td>\n",
       "      <td>3</td>\n",
       "      <td>1</td>\n",
       "      <td>0</td>\n",
       "    </tr>\n",
       "  </tbody>\n",
       "</table>\n",
       "</div>"
      ],
      "text/plain": [
       "   Attrition  Age  DistanceFromHome  Gender  JobRole  JobSatisfaction  \\\n",
       "0          0   33               7.0       1        0                3   \n",
       "1          0   35              18.0       1        0                4   \n",
       "2          0   42               6.0       1        0                1   \n",
       "3          0   46               2.0       0        0                1   \n",
       "4          0   39               NaN       1        0                4   \n",
       "5          1   22               4.0       1        1                3   \n",
       "6          0   24              21.0       1        1                1   \n",
       "7          0   34               8.0       1        1                3   \n",
       "8          0   30              20.0       1        0                1   \n",
       "9          0   26               6.0       0        1                4   \n",
       "\n",
       "   MonthlyIncome  NumCompaniesWorked  OverTime  PercentSalaryHike  \\\n",
       "0          11691                   1         0                 11   \n",
       "1           9362                   0         0                 11   \n",
       "2          13348                   0         0                 13   \n",
       "3          17048                   0         0                 23   \n",
       "4           4127                   0         0                 18   \n",
       "5           3894                   0         0                 16   \n",
       "6           2296                   1         0                 14   \n",
       "7           4404                   0         0                 12   \n",
       "8           9957                   1         0                 15   \n",
       "9           2659                   1         1                 13   \n",
       "\n",
       "   RelationshipSatisfaction  TotalWorkingYears  WorkLifeBalance  \\\n",
       "0                         4                 14                4   \n",
       "1                         3                 10                3   \n",
       "2                         2                 18                4   \n",
       "3                         1                 28                3   \n",
       "4                         4                  7                3   \n",
       "5                         3                  4                3   \n",
       "6                         2                  2                3   \n",
       "7                         1                  6                4   \n",
       "8                         3                  7                2   \n",
       "9                         3                  3                3   \n",
       "\n",
       "   MaritalStatus_Married  MaritalStatus_Single  \n",
       "0                      1                     0  \n",
       "1                      0                     1  \n",
       "2                      1                     0  \n",
       "3                      1                     0  \n",
       "4                      0                     0  \n",
       "5                      0                     1  \n",
       "6                      0                     0  \n",
       "7                      1                     0  \n",
       "8                      1                     0  \n",
       "9                      1                     0  "
      ]
     },
     "execution_count": 2,
     "metadata": {},
     "output_type": "execute_result"
    }
   ],
   "source": [
    "# data data\n",
    "path = \"https://raw.githubusercontent.com/DA4BAM/dataset/master/Attrition_NA.CSV\"\n",
    "data = pd.read_csv(path)\n",
    "\n",
    "######################################################################################################## 데이터 drop && 일부 수치화\n",
    "data.drop(['EducationField', 'Education','JobInvolvement', 'StockOptionLevel', 'BusinessTravel','YearsWithCurrManager'\n",
    ",'YearsInCurrentRole', 'Department','EmployeeNumber','EnvironmentSatisfaction','TrainingTimesLastYear','YearsAtCompany']\n",
    "          , axis = 1, inplace = True)\n",
    "data['Attrition'] = np.where(data['Attrition']=='Yes', 1, 0)\n",
    "data[\"OverTime\"] = np.where(data['OverTime']=='Yes', 1, 0)\n",
    "data[\"Gender\"] = np.where(data['Gender']=='Male', 1, 0)\n",
    "data[\"JobRole\"] = np.where(data['JobRole'].isin([\"Laboratory Technician\",\"Human Resources\",\n",
    "                                                \"Sales Executive,\"\"Sales Representative\",\"Research Scientist\"]), 1, 0)\n",
    "data = pd.get_dummies(data=data, columns=[\"MaritalStatus\"], drop_first=True)\n",
    "data[\"NumCompaniesWorked\"] =np.where(data[\"NumCompaniesWorked\"]<2, 1,0)\n",
    "\n",
    "#########################################################################################################################################\n",
    "\n",
    "data.head(10)"
   ]
  },
  {
   "cell_type": "code",
   "execution_count": 3,
   "metadata": {},
   "outputs": [
    {
     "data": {
      "text/plain": [
       "array([0, 1])"
      ]
     },
     "execution_count": 3,
     "metadata": {},
     "output_type": "execute_result"
    }
   ],
   "source": [
    "data[\"JobRole\"].unique()"
   ]
  },
  {
   "cell_type": "markdown",
   "metadata": {
    "id": "v50TP8BhMJKx"
   },
   "source": [
    "|\t변수 명\t|\t내용\t|\t구분\t|\n",
    "|\t----\t|\t----\t|\t----\t|\n",
    "|\t**Attrition**\t|\t이직여부, Yes = 1 , No = 0\t|\t**Target**\t|\n",
    "|\tAge\t|\t나이\t|\t숫자\t|\n",
    "|\tBusinessTravel\t|\t출장 빈도(범주)\t|\t\t|\n",
    "|\tDepartment\t|\t현 부서\t|\t\t|\n",
    "|\tDistanceFromHome\t|\t집-직장 거리(마일)\t|\t숫자\t|\n",
    "|\tEducation\t|\t교육수준(범주)\t|\t1 Below College, 2 College, 3 Bachelor, 4 Master, 5 Doctor\t|\n",
    "|\tEducationField\t|\t전공\t|\t\t|\n",
    "|\tEmployeeNumber\t|\t사번\t|\t\t|\n",
    "|\tEnvironmentSatisfaction\t|\t근무환경에 대한 만족도(범주)\t|\t1 Low, 2 Good, 3 Excellent, 4 Outstanding\t|\n",
    "|\tGender\t|\t성별\t|\t\t|\n",
    "|\tJobInvolvement\t|\t직무 적극성(참여도)\t|\t1 Low, 2 Medium, 3 High, 4 Very High\t|\n",
    "|\tJobRole\t|\t직무\t|\t\t|\n",
    "|\tJobSatisfaction\t|\t직무 만족도\t|\t1 Low, 2 Medium, 3 High, 4 Very High\t|\n",
    "|\tMaritalStatus\t|\t결혼상태\t|\t\t|\n",
    "|\tMonthlyIncome\t|\t월급\t|\t숫자\t|\n",
    "|\tNumCompaniesWorked\t|\t현재까지 근무한 회사 수\t|\t숫자\t|\n",
    "|\tOverTime\t|\t야근여부\t|\t범주\t|\n",
    "|\tPercentSalaryHike\t|\t전년대비 급여인상율(%)\t|\t숫자\t|\n",
    "|\tRelationshipSatisfaction\t|\t동료와의 관계 만족도\t|\t1 Low, 2 Medium, 3 High, 4 Very High\t|\n",
    "|\tStockOptionLevel\t|\t스톡옵션 수준 0~3\t|\t범주\t|\n",
    "|\tTotalWorkingYears\t|\t총 근무 연수\t|\t숫자\t|\n",
    "|\tTrainingTimesLastYear\t|\t전년 교육훈련 횟수\t|\t숫자\t|\n",
    "|\tWorkLifeBalance\t|\t워라밸. 일-삶 균형도\t|\t1 Bad, 2 Good, 3 Better, 4 Best\t|\n",
    "|\tYearsAtCompany\t|\t현직장 근무 연수\t|\t숫자\t|\n",
    "|\tYearsInCurrentRole\t|\t현직무 연수\t|\t숫자\t|\n",
    "|\tYearsWithCurrManager\t|\t현 팀장과 근무한 연수\t|\t숫자\t|\n"
   ]
  },
  {
   "cell_type": "markdown",
   "metadata": {
    "id": "bKimk8qVm8oC"
   },
   "source": [
    "----"
   ]
  },
  {
   "cell_type": "markdown",
   "metadata": {
    "id": "0bouXLxGkSSd"
   },
   "source": [
    "## 1.데이터 탐색"
   ]
  },
  {
   "cell_type": "markdown",
   "metadata": {
    "id": "PRXJWyibZTJN"
   },
   "source": [
    "## 2.데이터 전처리 "
   ]
  },
  {
   "cell_type": "code",
   "execution_count": 4,
   "metadata": {
    "id": "vtn0hI98urCt"
   },
   "outputs": [],
   "source": [
    "target = 'Attrition'"
   ]
  },
  {
   "cell_type": "markdown",
   "metadata": {
    "id": "OftPNXa1EPeV"
   },
   "source": [
    "### 2.1 데이터 정리"
   ]
  },
  {
   "cell_type": "markdown",
   "metadata": {
    "id": "mk_WSjzdnLLE"
   },
   "source": [
    "* feature와 , target으로 분할"
   ]
  },
  {
   "cell_type": "code",
   "execution_count": 5,
   "metadata": {
    "id": "hKx1tqpEEPeV"
   },
   "outputs": [],
   "source": [
    "x = data.drop(target, axis = 1)\n",
    "y = data.loc[:, target]"
   ]
  },
  {
   "cell_type": "code",
   "execution_count": 6,
   "metadata": {},
   "outputs": [
    {
     "data": {
      "text/html": [
       "<div>\n",
       "<style scoped>\n",
       "    .dataframe tbody tr th:only-of-type {\n",
       "        vertical-align: middle;\n",
       "    }\n",
       "\n",
       "    .dataframe tbody tr th {\n",
       "        vertical-align: top;\n",
       "    }\n",
       "\n",
       "    .dataframe thead th {\n",
       "        text-align: right;\n",
       "    }\n",
       "</style>\n",
       "<table border=\"1\" class=\"dataframe\">\n",
       "  <thead>\n",
       "    <tr style=\"text-align: right;\">\n",
       "      <th></th>\n",
       "      <th>Age</th>\n",
       "      <th>DistanceFromHome</th>\n",
       "      <th>Gender</th>\n",
       "      <th>JobRole</th>\n",
       "      <th>JobSatisfaction</th>\n",
       "      <th>MonthlyIncome</th>\n",
       "      <th>NumCompaniesWorked</th>\n",
       "      <th>OverTime</th>\n",
       "      <th>PercentSalaryHike</th>\n",
       "      <th>RelationshipSatisfaction</th>\n",
       "      <th>TotalWorkingYears</th>\n",
       "      <th>WorkLifeBalance</th>\n",
       "      <th>MaritalStatus_Married</th>\n",
       "      <th>MaritalStatus_Single</th>\n",
       "    </tr>\n",
       "  </thead>\n",
       "  <tbody>\n",
       "    <tr>\n",
       "      <th>0</th>\n",
       "      <td>33</td>\n",
       "      <td>7.0</td>\n",
       "      <td>1</td>\n",
       "      <td>0</td>\n",
       "      <td>3</td>\n",
       "      <td>11691</td>\n",
       "      <td>1</td>\n",
       "      <td>0</td>\n",
       "      <td>11</td>\n",
       "      <td>4</td>\n",
       "      <td>14</td>\n",
       "      <td>4</td>\n",
       "      <td>1</td>\n",
       "      <td>0</td>\n",
       "    </tr>\n",
       "    <tr>\n",
       "      <th>1</th>\n",
       "      <td>35</td>\n",
       "      <td>18.0</td>\n",
       "      <td>1</td>\n",
       "      <td>0</td>\n",
       "      <td>4</td>\n",
       "      <td>9362</td>\n",
       "      <td>0</td>\n",
       "      <td>0</td>\n",
       "      <td>11</td>\n",
       "      <td>3</td>\n",
       "      <td>10</td>\n",
       "      <td>3</td>\n",
       "      <td>0</td>\n",
       "      <td>1</td>\n",
       "    </tr>\n",
       "    <tr>\n",
       "      <th>2</th>\n",
       "      <td>42</td>\n",
       "      <td>6.0</td>\n",
       "      <td>1</td>\n",
       "      <td>0</td>\n",
       "      <td>1</td>\n",
       "      <td>13348</td>\n",
       "      <td>0</td>\n",
       "      <td>0</td>\n",
       "      <td>13</td>\n",
       "      <td>2</td>\n",
       "      <td>18</td>\n",
       "      <td>4</td>\n",
       "      <td>1</td>\n",
       "      <td>0</td>\n",
       "    </tr>\n",
       "    <tr>\n",
       "      <th>3</th>\n",
       "      <td>46</td>\n",
       "      <td>2.0</td>\n",
       "      <td>0</td>\n",
       "      <td>0</td>\n",
       "      <td>1</td>\n",
       "      <td>17048</td>\n",
       "      <td>0</td>\n",
       "      <td>0</td>\n",
       "      <td>23</td>\n",
       "      <td>1</td>\n",
       "      <td>28</td>\n",
       "      <td>3</td>\n",
       "      <td>1</td>\n",
       "      <td>0</td>\n",
       "    </tr>\n",
       "    <tr>\n",
       "      <th>4</th>\n",
       "      <td>39</td>\n",
       "      <td>NaN</td>\n",
       "      <td>1</td>\n",
       "      <td>0</td>\n",
       "      <td>4</td>\n",
       "      <td>4127</td>\n",
       "      <td>0</td>\n",
       "      <td>0</td>\n",
       "      <td>18</td>\n",
       "      <td>4</td>\n",
       "      <td>7</td>\n",
       "      <td>3</td>\n",
       "      <td>0</td>\n",
       "      <td>0</td>\n",
       "    </tr>\n",
       "  </tbody>\n",
       "</table>\n",
       "</div>"
      ],
      "text/plain": [
       "   Age  DistanceFromHome  Gender  JobRole  JobSatisfaction  MonthlyIncome  \\\n",
       "0   33               7.0       1        0                3          11691   \n",
       "1   35              18.0       1        0                4           9362   \n",
       "2   42               6.0       1        0                1          13348   \n",
       "3   46               2.0       0        0                1          17048   \n",
       "4   39               NaN       1        0                4           4127   \n",
       "\n",
       "   NumCompaniesWorked  OverTime  PercentSalaryHike  RelationshipSatisfaction  \\\n",
       "0                   1         0                 11                         4   \n",
       "1                   0         0                 11                         3   \n",
       "2                   0         0                 13                         2   \n",
       "3                   0         0                 23                         1   \n",
       "4                   0         0                 18                         4   \n",
       "\n",
       "   TotalWorkingYears  WorkLifeBalance  MaritalStatus_Married  \\\n",
       "0                 14                4                      1   \n",
       "1                 10                3                      0   \n",
       "2                 18                4                      1   \n",
       "3                 28                3                      1   \n",
       "4                  7                3                      0   \n",
       "\n",
       "   MaritalStatus_Single  \n",
       "0                     0  \n",
       "1                     1  \n",
       "2                     0  \n",
       "3                     0  \n",
       "4                     0  "
      ]
     },
     "execution_count": 6,
     "metadata": {},
     "output_type": "execute_result"
    }
   ],
   "source": [
    "x.head()"
   ]
  },
  {
   "cell_type": "markdown",
   "metadata": {
    "id": "a_EtSMDQnMQ5"
   },
   "source": [
    "* 불필요한 feature 제거\n",
    "    * 제거해야 할 feature를 선정하고 제거하시오. 제거 이유를 주석으로 기술합니다."
   ]
  },
  {
   "cell_type": "code",
   "execution_count": 7,
   "metadata": {
    "id": "86yIoNg7nNuu"
   },
   "outputs": [],
   "source": [
    "# 2번째 코드에 데이터에 제거 및 수정 했습니다."
   ]
  },
  {
   "cell_type": "code",
   "execution_count": 8,
   "metadata": {
    "id": "rsHIYqZwGjI8"
   },
   "outputs": [],
   "source": [
    "x = x.astype(float)"
   ]
  },
  {
   "cell_type": "markdown",
   "metadata": {
    "id": "ScpJ5uNrGjIw"
   },
   "source": [
    "### 2.2 NaN에 대한 조치\n",
    "* 데이터에 포함된 NaN에 대해서 조치 방법을 결정하고 적용합니다.\n",
    "* 조치방법을 결정한 이유를 주석으로 기술합니다."
   ]
  },
  {
   "cell_type": "code",
   "execution_count": 9,
   "metadata": {},
   "outputs": [
    {
     "name": "stdout",
     "output_type": "stream",
     "text": [
      "전체 데이터 :  1250\n"
     ]
    }
   ],
   "source": [
    "print(\"전체 데이터 : \",len(x))"
   ]
  },
  {
   "cell_type": "code",
   "execution_count": 10,
   "metadata": {
    "id": "8epD0jT6vL51"
   },
   "outputs": [
    {
     "data": {
      "text/plain": [
       "Attrition                    0\n",
       "Age                          0\n",
       "DistanceFromHome            54\n",
       "Gender                       0\n",
       "JobRole                      0\n",
       "JobSatisfaction              0\n",
       "MonthlyIncome                0\n",
       "NumCompaniesWorked           0\n",
       "OverTime                     0\n",
       "PercentSalaryHike            0\n",
       "RelationshipSatisfaction     0\n",
       "TotalWorkingYears            0\n",
       "WorkLifeBalance              0\n",
       "MaritalStatus_Married        0\n",
       "MaritalStatus_Single         0\n",
       "dtype: int64"
      ]
     },
     "execution_count": 10,
     "metadata": {},
     "output_type": "execute_result"
    }
   ],
   "source": [
    "data.isna().sum()"
   ]
  },
  {
   "cell_type": "markdown",
   "metadata": {
    "id": "Oq-35S_DNyg6"
   },
   "source": [
    "#### 2.2.1 결측지 KNNImputer"
   ]
  },
  {
   "cell_type": "code",
   "execution_count": 11,
   "metadata": {},
   "outputs": [
    {
     "data": {
      "text/plain": [
       "Age                         0\n",
       "DistanceFromHome            0\n",
       "Gender                      0\n",
       "JobRole                     0\n",
       "JobSatisfaction             0\n",
       "MonthlyIncome               0\n",
       "NumCompaniesWorked          0\n",
       "OverTime                    0\n",
       "PercentSalaryHike           0\n",
       "RelationshipSatisfaction    0\n",
       "TotalWorkingYears           0\n",
       "WorkLifeBalance             0\n",
       "MaritalStatus_Married       0\n",
       "MaritalStatus_Single        0\n",
       "dtype: int64"
      ]
     },
     "execution_count": 11,
     "metadata": {},
     "output_type": "execute_result"
    }
   ],
   "source": [
    "from sklearn.impute import KNNImputer\n",
    "\n",
    "imputer = KNNImputer(n_neighbors=2)\n",
    "imputed = imputer.fit_transform(x)\n",
    "# 데이터프레임으로 다시 만듭시다.\n",
    "x = pd.DataFrame(imputed, columns=x.columns)\n",
    "x.isna().sum()"
   ]
  },
  {
   "cell_type": "markdown",
   "metadata": {},
   "source": [
    "* 특정 값으로 채우기 : simpleimputer"
   ]
  },
  {
   "cell_type": "markdown",
   "metadata": {
    "id": "HfqkeUD2GjI6"
   },
   "source": [
    "### 2.3 가변수화\n",
    "* 범주형 데이터이면서 값이 0,1 로 되어 있는 것이 아니라면, 가변수화를 수행해야 합니다.\n",
    "* 대상이 되는 변수에 대해서 가변수화를 수행해주세요."
   ]
  },
  {
   "cell_type": "code",
   "execution_count": 12,
   "metadata": {},
   "outputs": [],
   "source": [
    "# 2번째 코드에 data에 수행했습니다."
   ]
  },
  {
   "cell_type": "markdown",
   "metadata": {
    "id": "eO9PZwR3GjI7"
   },
   "source": [
    "### 2.4 (옵션) 추가변수 도출\n",
    "* 기존 데이터셋의 변수를 이용하여 추가로 도출할 수 있는 변수가 있다면 수행합니다.\n",
    "* 추가변수에 대해서 주석으로 설명하시오."
   ]
  },
  {
   "cell_type": "markdown",
   "metadata": {
    "id": "-dgcE6vBZTJQ"
   },
   "source": [
    "### 2.5 데이터 분할\n",
    "\n",
    "* test 200건(test_size = 200), random_state = 2022\n",
    "* val 200건(test_size = 200), random_state = 2022\n",
    "* train 나머지."
   ]
  },
  {
   "cell_type": "code",
   "execution_count": 13,
   "metadata": {
    "id": "rrJdDjMiIa1d"
   },
   "outputs": [],
   "source": [
    "from sklearn.model_selection import train_test_split\n",
    "\n",
    "# KNNImputer 데이터 훈련 데이터 셋 \n",
    "x_train, x_test, y_train, y_test = train_test_split(x,y, test_size=200, random_state=2022)\n",
    "x_train, x_val, y_train, y_val = train_test_split(x_train,y_train, test_size=200, random_state=2022)"
   ]
  },
  {
   "cell_type": "markdown",
   "metadata": {
    "id": "2Lwk03PSZTJP"
   },
   "source": [
    "### 2.6 (옵션)스케일링 \n",
    "* 스케일링을 필요로 하는 알고리즘이 있습니다. \n",
    "* 필요하다고 판단될때 수행합니다."
   ]
  },
  {
   "cell_type": "code",
   "execution_count": 14,
   "metadata": {},
   "outputs": [],
   "source": [
    "from sklearn.preprocessing import MinMaxScaler\n",
    "col_x = list(x)\n",
    "scaler = MinMaxScaler()\n",
    "\n",
    "x_train_s = scaler.fit_transform(x_train)\n",
    "x_val_s = scaler.transform(x_val)\n",
    "x_test_s = scaler.transform(x_test)"
   ]
  },
  {
   "cell_type": "markdown",
   "metadata": {
    "id": "ZghJJ7yLEpDA"
   },
   "source": [
    "## 3.모델링1 : 머신러닝"
   ]
  },
  {
   "cell_type": "markdown",
   "metadata": {
    "id": "NFDAfi7-5Xhu"
   },
   "source": [
    "### 3.1 모델링을 위한 함수 불러오기\n",
    "\n",
    "* 꼭 필요한 함수만 불러옵니다. 무조건 다 불러오는 것은 지양해주세요."
   ]
  },
  {
   "cell_type": "code",
   "execution_count": 16,
   "metadata": {
    "id": "zlHHnr2-5cwD"
   },
   "outputs": [],
   "source": [
    "from sklearn.linear_model import LogisticRegression\n",
    "from sklearn.neighbors import KNeighborsClassifier\n",
    "from sklearn.tree import DecisionTreeClassifier\n",
    "from sklearn.model_selection import GridSearchCV\n",
    "from sklearn.svm import SVC\n",
    "from sklearn.ensemble import RandomForestClassifier\n",
    "from xgboost import XGBClassifier,plot_importance\n",
    "from sklearn.model_selection import RandomizedSearchCV\n",
    "from sklearn.metrics import accuracy_score\n",
    "from sklearn.metrics import recall_score\n",
    "from sklearn.metrics import precision_score\n",
    "from sklearn.metrics import classification_report\n",
    "from sklearn.metrics import confusion_matrix\n",
    "from sklearn.metrics import f1_score\n",
    "\n",
    "import matplotlib.pyplot as plt"
   ]
  },
  {
   "cell_type": "markdown",
   "metadata": {
    "id": "6K1mZKlXByLy"
   },
   "source": [
    "### 3.2 모델링\n",
    "* 최소 3개 이상의 알고리즘을 선정합니다.(알고리즘에는 최소 1개 이상의 앙상블 기법을 포함)\n",
    "    * 아래 주어진 목록 이외의 알고리즘을 선정해도 좋습니다.\n",
    "* 각 알고리즘별 튜닝을 수행하여 최적의 모델을 생성합니다.\n",
    "    * 튜닝 방식은 GridSearchCV, RandomizedSearchCV 혹은 for loop 로 직접\n",
    "    * 단, 선형회귀, 로지스틱 회귀의는 입력 변수(feature)를 조절하여 튜닝을 합니다.\n",
    "    * 튜닝 과정에 대해서 주석으로 기술합니다.\n",
    "* 모델링, 튜닝만 수행하는데 그치지 말고, 모델의 내용을 파악하기 위한 분석을 시도합니다. 코드 결과에 대한 분석 의견을 주석으로 기술합니다.\n",
    "    * 예 : 모델 시각화 및 내용 파악, 튜닝 결과 분석 및 시각화"
   ]
  },
  {
   "cell_type": "markdown",
   "metadata": {
    "id": "1j8zehMIIqpv"
   },
   "source": [
    "#### (1) Logistic Regression 모델링"
   ]
  },
  {
   "cell_type": "code",
   "execution_count": 17,
   "metadata": {},
   "outputs": [],
   "source": [
    "result={}"
   ]
  },
  {
   "cell_type": "code",
   "execution_count": 18,
   "metadata": {
    "id": "Y9zuNT45N9ba"
   },
   "outputs": [],
   "source": [
    "# LogisticRegression\n",
    "model_lr = LogisticRegression(max_iter=600)"
   ]
  },
  {
   "cell_type": "markdown",
   "metadata": {
    "id": "ZwstDzzpe5Rg"
   },
   "source": [
    "#### (2) Decision Tree 모델링"
   ]
  },
  {
   "cell_type": "code",
   "execution_count": 19,
   "metadata": {
    "id": "Cu17HFZ-N_sH"
   },
   "outputs": [],
   "source": [
    "#DecisionTreeClassifier Tuning\n",
    "\n",
    "model_dtr = DecisionTreeClassifier(random_state=2022)\n",
    "\n",
    "# 파라미터 선언\n",
    "param = {\n",
    "    \"max_depth\" : range(3,21)\n",
    "}\n",
    "\n",
    "# Grid Search 모델 선언하기\n",
    "\n",
    "model_dt = GridSearchCV(model_dtr,\n",
    "                    param,\n",
    "                    cv=5,\n",
    "                    scoring='accuracy',\n",
    "                    verbose=2)"
   ]
  },
  {
   "cell_type": "markdown",
   "metadata": {
    "id": "b7sweeGMWYO1"
   },
   "source": [
    "#### (3) KNN 모델링"
   ]
  },
  {
   "cell_type": "code",
   "execution_count": 20,
   "metadata": {
    "id": "K_ZcYkoxOBRu"
   },
   "outputs": [],
   "source": [
    "# KNeighborsClassifier\n",
    "model_knn = KNeighborsClassifier(n_neighbors=5)"
   ]
  },
  {
   "cell_type": "markdown",
   "metadata": {
    "id": "JB7CrBcM3j4g"
   },
   "source": [
    "#### (4) SVM 모델링"
   ]
  },
  {
   "cell_type": "code",
   "execution_count": 21,
   "metadata": {
    "id": "E9JfGcpqOCzS"
   },
   "outputs": [],
   "source": [
    "mode_svc = SVC()\n",
    "params = {'C':[0.05, 0.1,0.2,1,5,10], 'gamma': [0.1,1,5,10]}\n",
    "m_svm_gs = GridSearchCV(mode_svc, param_grid = params, cv = 5, scoring = \"accuracy\")"
   ]
  },
  {
   "cell_type": "markdown",
   "metadata": {
    "id": "FNAN5h5ZjxET"
   },
   "source": [
    "#### (5) Random Forest 모델링"
   ]
  },
  {
   "cell_type": "code",
   "execution_count": 22,
   "metadata": {
    "id": "W7b9ksZ_OEeZ"
   },
   "outputs": [],
   "source": [
    "model_rf = RandomForestClassifier()"
   ]
  },
  {
   "cell_type": "markdown",
   "metadata": {
    "id": "EuRaZc7OkRJN"
   },
   "source": [
    "#### (6) XGB 모델링"
   ]
  },
  {
   "cell_type": "code",
   "execution_count": 23,
   "metadata": {
    "id": "-ABB1_GdOF9j"
   },
   "outputs": [],
   "source": [
    "m_xgb = XGBClassifier(objective='binary:logistic')"
   ]
  },
  {
   "cell_type": "code",
   "execution_count": 24,
   "metadata": {
    "id": "WutnLut4OF5D"
   },
   "outputs": [],
   "source": [
    "param_xgb ={'max_depth': range(3, 11),\n",
    "           \"learning_rate\":[0.01,0.1,0.2,0.3]}\n",
    "\n",
    "m_xgb_gs =GridSearchCV(m_xgb, param_xgb, cv=10, scoring=\"r2\",n_jobs=4)"
   ]
  },
  {
   "cell_type": "code",
   "execution_count": null,
   "metadata": {},
   "outputs": [],
   "source": []
  },
  {
   "cell_type": "markdown",
   "metadata": {
    "id": "IRsH_UjrXNiW"
   },
   "source": [
    "## 4.모델링2 : 딥러닝"
   ]
  },
  {
   "cell_type": "markdown",
   "metadata": {
    "id": "b9kRyQ6K6CIW"
   },
   "source": [
    "### 4.1 모델링을 위한 함수 불러오기"
   ]
  },
  {
   "cell_type": "code",
   "execution_count": 25,
   "metadata": {
    "id": "_BDNB7hM9_hz"
   },
   "outputs": [],
   "source": [
    "from tensorflow import keras\n",
    "from keras.backend import clear_session\n",
    "from keras.layers import Dense, Input\n",
    "from keras.models import Sequential\n",
    "from keras.losses import binary_crossentropy\n",
    "from keras.callbacks import EarlyStopping"
   ]
  },
  {
   "cell_type": "code",
   "execution_count": 26,
   "metadata": {},
   "outputs": [],
   "source": [
    "from sklearn.preprocessing import MinMaxScaler\n",
    "col_x = list(x)\n",
    "scaler = MinMaxScaler()\n",
    "x_train_s = scaler.fit_transform(x_train)\n",
    "x_val_s = scaler.transform(x_val)"
   ]
  },
  {
   "cell_type": "markdown",
   "metadata": {
    "id": "lL9BeX00MLgt"
   },
   "source": [
    "### 4.2 모델 설계\n",
    "* 다양한 구조의 모델 3개 이상을 설계하시오. (히든레이어, 노드 수 조절)"
   ]
  },
  {
   "cell_type": "code",
   "execution_count": 27,
   "metadata": {},
   "outputs": [],
   "source": [
    "input = x_train.shape[1]\n",
    "batch = 64\n",
    "epochs = 300"
   ]
  },
  {
   "cell_type": "code",
   "execution_count": null,
   "metadata": {},
   "outputs": [],
   "source": []
  },
  {
   "cell_type": "code",
   "execution_count": 28,
   "metadata": {},
   "outputs": [
    {
     "data": {
      "text/plain": [
       "((850, 14), (200,))"
      ]
     },
     "execution_count": 28,
     "metadata": {},
     "output_type": "execute_result"
    }
   ],
   "source": [
    "x_train.shape, y_test.shape"
   ]
  },
  {
   "cell_type": "markdown",
   "metadata": {
    "id": "yAaMF07mHz_q"
   },
   "source": [
    "* 모델1 "
   ]
  },
  {
   "cell_type": "code",
   "execution_count": 29,
   "metadata": {
    "id": "aA1Pm1oXMLgv"
   },
   "outputs": [
    {
     "name": "stdout",
     "output_type": "stream",
     "text": [
      "Model: \"model\"\n",
      "_________________________________________________________________\n",
      " Layer (type)                Output Shape              Param #   \n",
      "=================================================================\n",
      " input_1 (InputLayer)        [(None, 14)]              0         \n",
      "                                                                 \n",
      " dense (Dense)               (None, 1)                 15        \n",
      "                                                                 \n",
      "=================================================================\n",
      "Total params: 15\n",
      "Trainable params: 15\n",
      "Non-trainable params: 0\n",
      "_________________________________________________________________\n"
     ]
    }
   ],
   "source": [
    "clear_session()\n",
    "\n",
    "il = Input(shape=(x_train.shape[1],))\n",
    "ol = Dense(1, activation=\"sigmoid\")(il)\n",
    "\n",
    "model1 = keras.models.Model(il,ol)\n",
    "model1.compile(loss =binary_crossentropy, optimizer = 'adam',metrics=[\"accuracy\"]) \n",
    "model1.summary()"
   ]
  },
  {
   "cell_type": "markdown",
   "metadata": {
    "id": "gU1_UtFlH3sY"
   },
   "source": [
    "* 모델2"
   ]
  },
  {
   "cell_type": "code",
   "execution_count": 30,
   "metadata": {
    "id": "bjcO9q9mH3sY"
   },
   "outputs": [
    {
     "name": "stdout",
     "output_type": "stream",
     "text": [
      "Model: \"model\"\n",
      "_________________________________________________________________\n",
      " Layer (type)                Output Shape              Param #   \n",
      "=================================================================\n",
      " input_1 (InputLayer)        [(None, 14)]              0         \n",
      "                                                                 \n",
      " dense_3 (Dense)             (None, 1)                 15        \n",
      "                                                                 \n",
      "=================================================================\n",
      "Total params: 15\n",
      "Trainable params: 15\n",
      "Non-trainable params: 0\n",
      "_________________________________________________________________\n"
     ]
    }
   ],
   "source": [
    "clear_session()\n",
    "\n",
    "il = Input(shape=(x_train.shape[1],))\n",
    "hl = Dense(28,activation=\"relu\")(il)\n",
    "hl = Dense(14,activation=\"relu\")(hl)\n",
    "hl = Dense(7,activation=\"relu\")(hl)\n",
    "ol = Dense(1,activation=\"sigmoid\")(il)\n",
    "\n",
    "model2 = keras.models.Model(il,ol)\n",
    "model2.compile(loss =binary_crossentropy, optimizer = 'adam',metrics=[\"accuracy\"]) \n",
    "model2.summary()"
   ]
  },
  {
   "cell_type": "markdown",
   "metadata": {
    "id": "iXOlv7oSKLlt"
   },
   "source": [
    "* 모델3"
   ]
  },
  {
   "cell_type": "code",
   "execution_count": 31,
   "metadata": {
    "id": "rlTLt04PKLlz"
   },
   "outputs": [
    {
     "name": "stdout",
     "output_type": "stream",
     "text": [
      "Model: \"model\"\n",
      "_________________________________________________________________\n",
      " Layer (type)                Output Shape              Param #   \n",
      "=================================================================\n",
      " input_1 (InputLayer)        [(None, 14)]              0         \n",
      "                                                                 \n",
      " dense_5 (Dense)             (None, 1)                 15        \n",
      "                                                                 \n",
      "=================================================================\n",
      "Total params: 15\n",
      "Trainable params: 15\n",
      "Non-trainable params: 0\n",
      "_________________________________________________________________\n"
     ]
    }
   ],
   "source": [
    "clear_session()\n",
    "\n",
    "il = Input(shape=(x_train.shape[1],))\n",
    "hl = Dense(64,activation=\"relu\")(il)\n",
    "hl = Dense(32,activation=\"relu\")(hl)\n",
    "hl = Dense(16,activation=\"relu\")(hl)\n",
    "hl = Dense(8,activation=\"relu\")(hl)\n",
    "hl = Dense(4,activation=\"relu\")(hl)\n",
    "ol = Dense(1,activation=\"sigmoid\")(il)\n",
    "\n",
    "model3 = keras.models.Model(il,ol)\n",
    "model3.compile(loss =binary_crossentropy, optimizer = 'adam',metrics=[\"accuracy\"]) \n",
    "model3.summary()"
   ]
  },
  {
   "cell_type": "markdown",
   "metadata": {
    "id": "aCwoqa6hMLgx"
   },
   "source": [
    "### 4.3 학습 및 최적화\n",
    "* 다양한 학습조건으로 모델링 수행후 성능을 비교해 봅시다.\n"
   ]
  },
  {
   "cell_type": "markdown",
   "metadata": {},
   "source": [
    "##### 4.3.1 Logistic Regression 학습 및 최적화"
   ]
  },
  {
   "cell_type": "code",
   "execution_count": 32,
   "metadata": {
    "id": "rxx4LUwBMLgy"
   },
   "outputs": [
    {
     "name": "stdout",
     "output_type": "stream",
     "text": [
      "              precision    recall  f1-score   support\n",
      "\n",
      "           0       0.90      0.98      0.94       176\n",
      "           1       0.57      0.17      0.26        24\n",
      "\n",
      "    accuracy                           0.89       200\n",
      "   macro avg       0.73      0.57      0.60       200\n",
      "weighted avg       0.86      0.89      0.86       200\n",
      "\n",
      "[[173   3]\n",
      " [ 20   4]]\n"
     ]
    }
   ],
   "source": [
    "# KNNImputer 데이터 훈련\n",
    "model_lr.fit(x_train,y_train)\n",
    "y_lr_pred = model_lr.predict(x_val)\n",
    "print(classification_report(y_val,y_lr_pred))\n",
    "print(confusion_matrix(y_val,y_lr_pred))\n",
    "# result[\"LogisticRegression_KNNimputer\"]=accuracy_score(y_test,y_lr_pred)\n",
    "result[\"LogisticRegression_KNNimputer\"]=[accuracy_score(y_val,y_lr_pred),f1_score(y_val,y_lr_pred)]"
   ]
  },
  {
   "cell_type": "markdown",
   "metadata": {
    "id": "1LggUbULOTTI"
   },
   "source": [
    "##### 4.3.2 Decision Tree 학습 및 최적화"
   ]
  },
  {
   "cell_type": "code",
   "execution_count": 38,
   "metadata": {},
   "outputs": [
    {
     "name": "stdout",
     "output_type": "stream",
     "text": [
      "Fitting 5 folds for each of 18 candidates, totalling 90 fits\n",
      "[CV] END ........................................max_depth=3; total time=   0.0s\n",
      "[CV] END ........................................max_depth=3; total time=   0.0s\n",
      "[CV] END ........................................max_depth=3; total time=   0.0s\n",
      "[CV] END ........................................max_depth=3; total time=   0.0s\n",
      "[CV] END ........................................max_depth=3; total time=   0.0s\n",
      "[CV] END ........................................max_depth=4; total time=   0.0s\n",
      "[CV] END ........................................max_depth=4; total time=   0.0s\n",
      "[CV] END ........................................max_depth=4; total time=   0.0s\n",
      "[CV] END ........................................max_depth=4; total time=   0.0s\n",
      "[CV] END ........................................max_depth=4; total time=   0.0s\n",
      "[CV] END ........................................max_depth=5; total time=   0.0s\n",
      "[CV] END ........................................max_depth=5; total time=   0.0s\n",
      "[CV] END ........................................max_depth=5; total time=   0.0s\n",
      "[CV] END ........................................max_depth=5; total time=   0.0s\n",
      "[CV] END ........................................max_depth=5; total time=   0.0s\n",
      "[CV] END ........................................max_depth=6; total time=   0.0s\n",
      "[CV] END ........................................max_depth=6; total time=   0.0s\n",
      "[CV] END ........................................max_depth=6; total time=   0.0s\n",
      "[CV] END ........................................max_depth=6; total time=   0.0s\n",
      "[CV] END ........................................max_depth=6; total time=   0.0s\n",
      "[CV] END ........................................max_depth=7; total time=   0.0s\n",
      "[CV] END ........................................max_depth=7; total time=   0.0s\n",
      "[CV] END ........................................max_depth=7; total time=   0.0s\n",
      "[CV] END ........................................max_depth=7; total time=   0.0s\n",
      "[CV] END ........................................max_depth=7; total time=   0.0s\n",
      "[CV] END ........................................max_depth=8; total time=   0.0s\n",
      "[CV] END ........................................max_depth=8; total time=   0.0s\n",
      "[CV] END ........................................max_depth=8; total time=   0.0s\n",
      "[CV] END ........................................max_depth=8; total time=   0.0s\n",
      "[CV] END ........................................max_depth=8; total time=   0.0s\n",
      "[CV] END ........................................max_depth=9; total time=   0.0s\n",
      "[CV] END ........................................max_depth=9; total time=   0.0s\n",
      "[CV] END ........................................max_depth=9; total time=   0.0s\n",
      "[CV] END ........................................max_depth=9; total time=   0.0s\n",
      "[CV] END ........................................max_depth=9; total time=   0.0s\n",
      "[CV] END .......................................max_depth=10; total time=   0.0s\n",
      "[CV] END .......................................max_depth=10; total time=   0.0s\n",
      "[CV] END .......................................max_depth=10; total time=   0.0s\n",
      "[CV] END .......................................max_depth=10; total time=   0.0s\n",
      "[CV] END .......................................max_depth=10; total time=   0.0s\n",
      "[CV] END .......................................max_depth=11; total time=   0.0s\n",
      "[CV] END .......................................max_depth=11; total time=   0.0s\n",
      "[CV] END .......................................max_depth=11; total time=   0.0s\n",
      "[CV] END .......................................max_depth=11; total time=   0.0s\n",
      "[CV] END .......................................max_depth=11; total time=   0.0s\n",
      "[CV] END .......................................max_depth=12; total time=   0.0s\n",
      "[CV] END .......................................max_depth=12; total time=   0.0s\n",
      "[CV] END .......................................max_depth=12; total time=   0.0s\n",
      "[CV] END .......................................max_depth=12; total time=   0.0s\n",
      "[CV] END .......................................max_depth=12; total time=   0.0s\n",
      "[CV] END .......................................max_depth=13; total time=   0.0s\n",
      "[CV] END .......................................max_depth=13; total time=   0.0s\n",
      "[CV] END .......................................max_depth=13; total time=   0.0s\n",
      "[CV] END .......................................max_depth=13; total time=   0.0s\n",
      "[CV] END .......................................max_depth=13; total time=   0.0s\n",
      "[CV] END .......................................max_depth=14; total time=   0.0s\n",
      "[CV] END .......................................max_depth=14; total time=   0.0s\n",
      "[CV] END .......................................max_depth=14; total time=   0.0s\n",
      "[CV] END .......................................max_depth=14; total time=   0.0s\n",
      "[CV] END .......................................max_depth=14; total time=   0.0s\n",
      "[CV] END .......................................max_depth=15; total time=   0.0s\n",
      "[CV] END .......................................max_depth=15; total time=   0.0s\n",
      "[CV] END .......................................max_depth=15; total time=   0.0s\n",
      "[CV] END .......................................max_depth=15; total time=   0.0s\n",
      "[CV] END .......................................max_depth=15; total time=   0.0s\n",
      "[CV] END .......................................max_depth=16; total time=   0.0s\n",
      "[CV] END .......................................max_depth=16; total time=   0.0s\n",
      "[CV] END .......................................max_depth=16; total time=   0.0s\n",
      "[CV] END .......................................max_depth=16; total time=   0.0s\n",
      "[CV] END .......................................max_depth=16; total time=   0.0s\n",
      "[CV] END .......................................max_depth=17; total time=   0.0s\n",
      "[CV] END .......................................max_depth=17; total time=   0.0s\n",
      "[CV] END .......................................max_depth=17; total time=   0.0s\n",
      "[CV] END .......................................max_depth=17; total time=   0.0s\n",
      "[CV] END .......................................max_depth=17; total time=   0.0s\n",
      "[CV] END .......................................max_depth=18; total time=   0.0s\n",
      "[CV] END .......................................max_depth=18; total time=   0.0s\n",
      "[CV] END .......................................max_depth=18; total time=   0.0s\n",
      "[CV] END .......................................max_depth=18; total time=   0.0s\n",
      "[CV] END .......................................max_depth=18; total time=   0.0s\n",
      "[CV] END .......................................max_depth=19; total time=   0.0s\n",
      "[CV] END .......................................max_depth=19; total time=   0.0s\n",
      "[CV] END .......................................max_depth=19; total time=   0.0s\n",
      "[CV] END .......................................max_depth=19; total time=   0.0s\n",
      "[CV] END .......................................max_depth=19; total time=   0.0s\n",
      "[CV] END .......................................max_depth=20; total time=   0.0s\n",
      "[CV] END .......................................max_depth=20; total time=   0.0s\n",
      "[CV] END .......................................max_depth=20; total time=   0.0s\n",
      "[CV] END .......................................max_depth=20; total time=   0.0s\n",
      "[CV] END .......................................max_depth=20; total time=   0.0s\n",
      "Best Estimatior : DecisionTreeClassifier(max_depth=5, random_state=2022)\n",
      "[[162   7]\n",
      " [ 23   8]]\n",
      "              precision    recall  f1-score   support\n",
      "\n",
      "           0       0.88      0.96      0.92       169\n",
      "           1       0.53      0.26      0.35        31\n",
      "\n",
      "    accuracy                           0.85       200\n",
      "   macro avg       0.70      0.61      0.63       200\n",
      "weighted avg       0.82      0.85      0.83       200\n",
      "\n"
     ]
    }
   ],
   "source": [
    "# KNNImputer 데이터 훈련\n",
    "model_dt.fit(x_tr_n,y_train)\n",
    "y_dtr_pred = model_dt.predict(x_te_n)\n",
    "print(\"Best Estimatior :\",model_dt.best_estimator_)\n",
    "\n",
    "print(confusion_matrix(y_test,y_dtr_pred))\n",
    "print(classification_report(y_test,y_dtr_pred))\n",
    "result[\"DecisionTree\"] = [accuracy_score(y_test,y_dtr_pred),f1_score(y_test,y_dtr_pred)]\n"
   ]
  },
  {
   "cell_type": "markdown",
   "metadata": {},
   "source": [
    "##### 4.3.3KNN 학습 및 최적화"
   ]
  },
  {
   "cell_type": "code",
   "execution_count": 39,
   "metadata": {},
   "outputs": [
    {
     "name": "stdout",
     "output_type": "stream",
     "text": [
      "              precision    recall  f1-score   support\n",
      "\n",
      "           0       0.88      0.97      0.92       176\n",
      "           1       0.14      0.04      0.06        24\n",
      "\n",
      "    accuracy                           0.85       200\n",
      "   macro avg       0.51      0.50      0.49       200\n",
      "weighted avg       0.79      0.85      0.82       200\n",
      "\n",
      "[[170   6]\n",
      " [ 23   1]]\n"
     ]
    }
   ],
   "source": [
    "# KNNImputer 데이터 훈련\n",
    "model_knn.fit(x_train, y_train)\n",
    "\n",
    "y_knn_pred = model_knn.predict(x_val)\n",
    "print(classification_report(y_val,y_knn_pred))\n",
    "print(confusion_matrix(y_val,y_knn_pred))\n",
    "result[\"KNN\"] = [accuracy_score(y_test,y_knn_pred),f1_score(y_test,y_knn_pred)]"
   ]
  },
  {
   "cell_type": "markdown",
   "metadata": {},
   "source": [
    "##### 4.3.4 SVM 학습 및 최적화"
   ]
  },
  {
   "cell_type": "code",
   "execution_count": 40,
   "metadata": {},
   "outputs": [
    {
     "name": "stdout",
     "output_type": "stream",
     "text": [
      "SVC(C=10, gamma=0.1)\n",
      "              precision    recall  f1-score   support\n",
      "\n",
      "           0       0.89      0.98      0.93       169\n",
      "           1       0.71      0.32      0.44        31\n",
      "\n",
      "    accuracy                           0.88       200\n",
      "   macro avg       0.80      0.65      0.69       200\n",
      "weighted avg       0.86      0.88      0.85       200\n",
      "\n",
      "[[165   4]\n",
      " [ 21  10]]\n"
     ]
    }
   ],
   "source": [
    "m_svm_gs.fit(x_tr_n,y_train)\n",
    "print(m_svm_gs.best_estimator_)\n",
    "y_svc_pred = m_svm_gs.predict(x_te_n)\n",
    "print(classification_report(y_test,y_svc_pred))\n",
    "print(confusion_matrix(y_test,y_svc_pred))\n",
    "\n",
    "result[\"SVR\"] = [accuracy_score(y_test,y_svc_pred),f1_score(y_test,y_svc_pred)]"
   ]
  },
  {
   "cell_type": "code",
   "execution_count": 41,
   "metadata": {},
   "outputs": [],
   "source": [
    "##### 4.3.5 Random Forest 학습 및 최적화"
   ]
  },
  {
   "cell_type": "code",
   "execution_count": 42,
   "metadata": {},
   "outputs": [
    {
     "name": "stdout",
     "output_type": "stream",
     "text": [
      "              precision    recall  f1-score   support\n",
      "\n",
      "           0       0.84      0.96      0.90       169\n",
      "           1       0.14      0.03      0.05        31\n",
      "\n",
      "    accuracy                           0.82       200\n",
      "   macro avg       0.49      0.50      0.48       200\n",
      "weighted avg       0.74      0.82      0.77       200\n",
      "\n",
      "[[163   6]\n",
      " [ 30   1]]\n"
     ]
    }
   ],
   "source": [
    "model_rf.fit(x_train, y_train)\n",
    "y_rf_pred = model_rf.predict(x_test)\n",
    "print(classification_report(y_test,y_knn_pred))\n",
    "print(confusion_matrix(y_test,y_knn_pred))\n",
    "result[\"RandomForest\"] = [accuracy_score(y_test,y_rf_pred),f1_score(y_test,y_rf_pred)]"
   ]
  },
  {
   "cell_type": "markdown",
   "metadata": {},
   "source": [
    "##### 4.3.6 XGB 학습 및 최적화"
   ]
  },
  {
   "cell_type": "code",
   "execution_count": 86,
   "metadata": {},
   "outputs": [
    {
     "name": "stderr",
     "output_type": "stream",
     "text": [
      "C:\\Users\\User\\anaconda3\\lib\\site-packages\\xgboost\\sklearn.py:1224: UserWarning: The use of label encoder in XGBClassifier is deprecated and will be removed in a future release. To remove this warning, do the following: 1) Pass option use_label_encoder=False when constructing XGBClassifier object; and 2) Encode your labels (y) as integers starting with 0, i.e. 0, 1, 2, ..., [num_class - 1].\n",
      "  warnings.warn(label_encoder_deprecation_msg, UserWarning)\n"
     ]
    },
    {
     "name": "stdout",
     "output_type": "stream",
     "text": [
      "[16:24:35] WARNING: C:/Users/Administrator/workspace/xgboost-win64_release_1.5.1/src/learner.cc:1115: Starting in XGBoost 1.3.0, the default evaluation metric used with the objective 'binary:logistic' was changed from 'error' to 'logloss'. Explicitly set eval_metric if you'd like to restore the old behavior.\n",
      "{'learning_rate': 0.01, 'max_depth': 4}\n",
      "              precision    recall  f1-score   support\n",
      "\n",
      "           0       0.88      0.95      0.91       169\n",
      "           1       0.50      0.26      0.34        31\n",
      "\n",
      "    accuracy                           0.84       200\n",
      "   macro avg       0.69      0.61      0.63       200\n",
      "weighted avg       0.82      0.84      0.82       200\n",
      "\n",
      "[[161   8]\n",
      " [ 23   8]]\n"
     ]
    }
   ],
   "source": [
    "m_xgb_gs.fit(x_train,y_train)\n",
    "print(m_xgb_gs.best_params_)\n",
    "y_xgb_pred = m_xgb_gs.predict(x_test)\n",
    "print(classification_report(y_test,y_xgb_pred))\n",
    "print(confusion_matrix(y_test,y_xgb_pred))\n",
    "result[\"XGB\"] = [accuracy_score(y_test,y_xgb_pred),f1_score(y_test,y_xgb_pred)]"
   ]
  },
  {
   "cell_type": "code",
   "execution_count": 87,
   "metadata": {},
   "outputs": [
    {
     "data": {
      "text/plain": [
       "<BarContainer object of 14 artists>"
      ]
     },
     "execution_count": 87,
     "metadata": {},
     "output_type": "execute_result"
    },
    {
     "data": {
      "image/png": "[encoded data removed]",
      "text/plain": [
       "<Figure size 360x576 with 1 Axes>"
      ]
     },
     "metadata": {
      "needs_background": "light"
     },
     "output_type": "display_data"
    }
   ],
   "source": [
    "plt.figure(figsize=(5,8))\n",
    "plt.barh(list(x),width=m_xgb_gs.best_estimator_.feature_importances_)"
   ]
  },
  {
   "cell_type": "code",
   "execution_count": 63,
   "metadata": {},
   "outputs": [
    {
     "data": {
      "text/plain": [
       "dict_keys(['cv', 'error_score', 'estimator__objective', 'estimator__use_label_encoder', 'estimator__base_score', 'estimator__booster', 'estimator__colsample_bylevel', 'estimator__colsample_bynode', 'estimator__colsample_bytree', 'estimator__enable_categorical', 'estimator__gamma', 'estimator__gpu_id', 'estimator__importance_type', 'estimator__interaction_constraints', 'estimator__learning_rate', 'estimator__max_delta_step', 'estimator__max_depth', 'estimator__min_child_weight', 'estimator__missing', 'estimator__monotone_constraints', 'estimator__n_estimators', 'estimator__n_jobs', 'estimator__num_parallel_tree', 'estimator__predictor', 'estimator__random_state', 'estimator__reg_alpha', 'estimator__reg_lambda', 'estimator__scale_pos_weight', 'estimator__subsample', 'estimator__tree_method', 'estimator__validate_parameters', 'estimator__verbosity', 'estimator', 'n_jobs', 'param_grid', 'pre_dispatch', 'refit', 'return_train_score', 'scoring', 'verbose'])"
      ]
     },
     "execution_count": 63,
     "metadata": {},
     "output_type": "execute_result"
    }
   ],
   "source": [
    "m_xgb_gs.get_params().keys()"
   ]
  },
  {
   "cell_type": "markdown",
   "metadata": {},
   "source": [
    "#### 4.3.7 DL M1"
   ]
  },
  {
   "cell_type": "code",
   "execution_count": 44,
   "metadata": {},
   "outputs": [],
   "source": [
    "es = EarlyStopping(monitor=\"val_loss\",\n",
    "                   min_delta=0,\n",
    "                  patience=5,\n",
    "                  restore_best_weights=True,\n",
    "                  verbose=1)"
   ]
  },
  {
   "cell_type": "code",
   "execution_count": 45,
   "metadata": {},
   "outputs": [
    {
     "name": "stdout",
     "output_type": "stream",
     "text": [
      "Restoring model weights from the end of the best epoch: 287.\n",
      "Epoch 292: early stopping\n"
     ]
    }
   ],
   "source": [
    "# m1\n",
    "model1.fit(x_train_s, y_train, epochs = epochs, validation_split=0.2, callbacks=[es],verbose=0)\n",
    "val_pred_dl1 = model1.predict(x_val_s)"
   ]
  },
  {
   "cell_type": "code",
   "execution_count": 46,
   "metadata": {},
   "outputs": [],
   "source": [
    "for i in range(len(val_pred_dl1)):\n",
    "    if val_pred_dl1[i]>=0.5:\n",
    "        val_pred_dl1[i]=1\n",
    "    else:\n",
    "        val_pred_dl1[i]=0"
   ]
  },
  {
   "cell_type": "code",
   "execution_count": 47,
   "metadata": {},
   "outputs": [],
   "source": [
    "result[\"DL3\"] =[accuracy_score(y_val,val_pred_dl1),f1_score(y_val,val_pred_dl1)]"
   ]
  },
  {
   "cell_type": "markdown",
   "metadata": {},
   "source": [
    "#### 4.3.7 DL M2"
   ]
  },
  {
   "cell_type": "code",
   "execution_count": 48,
   "metadata": {},
   "outputs": [
    {
     "name": "stdout",
     "output_type": "stream",
     "text": [
      "Restoring model weights from the end of the best epoch: 248.\n",
      "Epoch 253: early stopping\n"
     ]
    }
   ],
   "source": [
    "# m1\n",
    "model2.fit(x_train_s, y_train, epochs = epochs, validation_split=0.2, callbacks=[es],verbose=0 )\n",
    "val_pred_dl2 = model1.predict(x_val_s)"
   ]
  },
  {
   "cell_type": "code",
   "execution_count": 49,
   "metadata": {},
   "outputs": [],
   "source": [
    "for i in range(len(val_pred_dl2)):\n",
    "    if val_pred_dl2[i]>=0.5:\n",
    "        val_pred_dl2[i]=1\n",
    "    else:\n",
    "        val_pred_dl2[i]=0"
   ]
  },
  {
   "cell_type": "code",
   "execution_count": 50,
   "metadata": {},
   "outputs": [],
   "source": [
    "result[\"DL2\"] = [accuracy_score(y_val,val_pred_dl2),f1_score(y_val,val_pred_dl2)]"
   ]
  },
  {
   "cell_type": "markdown",
   "metadata": {},
   "source": [
    "#### 4.3.7 DL M3"
   ]
  },
  {
   "cell_type": "code",
   "execution_count": 51,
   "metadata": {},
   "outputs": [
    {
     "name": "stdout",
     "output_type": "stream",
     "text": [
      "Restoring model weights from the end of the best epoch: 232.\n",
      "Epoch 237: early stopping\n"
     ]
    }
   ],
   "source": [
    "# m3\n",
    "model3.fit(x_train_s, y_train, epochs = epochs, validation_split=0.2, callbacks=[es],verbose=0)\n",
    "val_pred_dl3 = model3.predict(x_val_s)"
   ]
  },
  {
   "cell_type": "code",
   "execution_count": 52,
   "metadata": {},
   "outputs": [],
   "source": [
    "for i in range(len(val_pred_dl3)):\n",
    "    if val_pred_dl3[i]>=0.5:\n",
    "        val_pred_dl3[i]=1\n",
    "    else:\n",
    "        val_pred_dl3[i]=0"
   ]
  },
  {
   "cell_type": "code",
   "execution_count": 53,
   "metadata": {},
   "outputs": [],
   "source": [
    "result[\"DL3\"] =[accuracy_score(y_val,val_pred_dl3),f1_score(y_val,val_pred_dl3)]"
   ]
  },
  {
   "cell_type": "markdown",
   "metadata": {
    "id": "U4UL4ynYL6Ly"
   },
   "source": [
    "## 5.성능 비교\n",
    "* 알고리즘별 선정된 모델이 최소 6개 입니다. 이에 대해 성능을 평가합니다.\n",
    "* 평가를 위한 적절한 지표(metric)을 결정하고 비교합니다.\n",
    "    * 평가지표 선정 이유도 주석으로 기술하시오.\n",
    "* 최종 모델을 선정하게 된 근거를 주석으로 기술하시오."
   ]
  },
  {
   "cell_type": "markdown",
   "metadata": {
    "id": "lKA2UyB6HXfF"
   },
   "source": [
    "### 5.1 평가지표 결정\n",
    "\n",
    "* 어떤 지표로 성능을 비교할지 결정합니다.\n",
    "* 결정 이유를 기술합니다."
   ]
  },
  {
   "cell_type": "code",
   "execution_count": 54,
   "metadata": {
    "id": "Ta99Rh0IHarR"
   },
   "outputs": [],
   "source": [
    "# 평가지표는 f1 score를 활용했습니다.\n",
    "# 이유는 0과 1의 비율이 불균형이기 때문입니다.\n",
    "# accuracy를 하게 되면 예측을 전부 0을 해도 8~90이 보장 되기 때문입니다."
   ]
  },
  {
   "cell_type": "markdown",
   "metadata": {
    "id": "-hOx7i2sHi1U"
   },
   "source": [
    "### 5.2 성능 비교"
   ]
  },
  {
   "cell_type": "code",
   "execution_count": 33,
   "metadata": {
    "id": "-Qo9AvO-OVkQ",
    "scrolled": true
   },
   "outputs": [
    {
     "name": "stdout",
     "output_type": "stream",
     "text": [
      "Model \t\t acc \t\t f1\n",
      "==================================================\n",
      "LogisticRegression_KNNimputer : [0.885, 0.25806451612903225]\n",
      "==================================================\n"
     ]
    }
   ],
   "source": [
    "print(\"Model \\t\\t acc \\t\\t f1\")\n",
    "for key, value in result.items():\n",
    "    print(\"=\"*50)\n",
    "    print(key,\":\",value)    \n",
    "    print(\"=\"*50)"
   ]
  },
  {
   "cell_type": "code",
   "execution_count": 111,
   "metadata": {
    "id": "FXgib3TYOVwH"
   },
   "outputs": [
    {
     "data": {
      "text/plain": [
       "<AxesSubplot:xlabel='WorkLifeBalance'>"
      ]
     },
     "execution_count": 111,
     "metadata": {},
     "output_type": "execute_result"
    },
    {
     "data": {
      "image/png": "[encoded data removed]",
      "text/plain": [
       "<Figure size 432x288 with 1 Axes>"
      ]
     },
     "metadata": {
      "needs_background": "light"
     },
     "output_type": "display_data"
    }
   ],
   "source": [
    "sns.barplot(x=\"WorkLifeBalance\", y=y_xgb_pred, data=x_test)\n",
    "# 현재까지 근무한 회사 수는 숫자형이었지만 0개 혹은 1개가 \n",
    "# 압도적으로 이직율이 높아 2개미만으로 범주화 하여 전처리를 했다."
   ]
  },
  {
   "cell_type": "code",
   "execution_count": 100,
   "metadata": {},
   "outputs": [
    {
     "data": {
      "text/plain": [
       "['Age',\n",
       " 'DistanceFromHome',\n",
       " 'Gender',\n",
       " 'JobRole',\n",
       " 'JobSatisfaction',\n",
       " 'MonthlyIncome',\n",
       " 'NumCompaniesWorked',\n",
       " 'OverTime',\n",
       " 'PercentSalaryHike',\n",
       " 'RelationshipSatisfaction',\n",
       " 'TotalWorkingYears',\n",
       " 'WorkLifeBalance',\n",
       " 'MaritalStatus_Married',\n",
       " 'MaritalStatus_Single']"
      ]
     },
     "execution_count": 100,
     "metadata": {},
     "output_type": "execute_result"
    }
   ],
   "source": [
    "list(x_test)"
   ]
  },
  {
   "cell_type": "code",
   "execution_count": null,
   "metadata": {
    "id": "KkZqsY3UOVqq"
   },
   "outputs": [],
   "source": []
  },
  {
   "cell_type": "code",
   "execution_count": null,
   "metadata": {
    "id": "Ho_W7XNSOVna"
   },
   "outputs": [],
   "source": []
  },
  {
   "cell_type": "code",
   "execution_count": null,
   "metadata": {
    "id": "QBy3aAPBOToC"
   },
   "outputs": [],
   "source": []
  }
 ],
 "metadata": {
  "colab": {
   "collapsed_sections": [],
   "name": "과제2. 직원 이직 분석.ipynb",
   "provenance": [],
   "toc_visible": true
  },
  "kernelspec": {
   "display_name": "Python 3",
   "language": "python",
   "name": "python3"
  },
  "language_info": {
   "codemirror_mode": {
    "name": "ipython",
    "version": 3
   },
   "file_extension": ".py",
   "mimetype": "text/x-python",
   "name": "python",
   "nbconvert_exporter": "python",
   "pygments_lexer": "ipython3",
   "version": "3.8.8"
  }
 },
 "nbformat": 4,
 "nbformat_minor": 4
}
